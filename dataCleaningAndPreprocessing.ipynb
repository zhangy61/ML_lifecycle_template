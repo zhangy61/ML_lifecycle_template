{
 "cells": [
  {
   "cell_type": "markdown",
   "id": "8438a9ab-8814-4b81-9f18-df44c70e22c6",
   "metadata": {},
   "source": [
    "# Data cleaning and preprocessing"
   ]
  },
  {
   "cell_type": "code",
   "execution_count": 30,
   "id": "a1223b01-040e-43db-9df2-eed783e0bacc",
   "metadata": {},
   "outputs": [],
   "source": [
    "import pandas as pd\n",
    "import numpy as np\n",
    "import matplotlib.pyplot as plt"
   ]
  },
  {
   "cell_type": "code",
   "execution_count": 4,
   "id": "2df037d3-c82d-4891-aa9f-98cc42e18394",
   "metadata": {},
   "outputs": [],
   "source": [
    "data = pd.read_csv(\"./Titanic-Dataset.csv\")"
   ]
  },
  {
   "cell_type": "code",
   "execution_count": 5,
   "id": "38888890-6639-4562-986c-ecbc553c4e12",
   "metadata": {},
   "outputs": [
    {
     "name": "stdout",
     "output_type": "stream",
     "text": [
      "<class 'pandas.core.frame.DataFrame'>\n",
      "RangeIndex: 891 entries, 0 to 890\n",
      "Data columns (total 12 columns):\n",
      " #   Column       Non-Null Count  Dtype  \n",
      "---  ------       --------------  -----  \n",
      " 0   PassengerId  891 non-null    int64  \n",
      " 1   Survived     891 non-null    int64  \n",
      " 2   Pclass       891 non-null    int64  \n",
      " 3   Name         891 non-null    object \n",
      " 4   Sex          891 non-null    object \n",
      " 5   Age          714 non-null    float64\n",
      " 6   SibSp        891 non-null    int64  \n",
      " 7   Parch        891 non-null    int64  \n",
      " 8   Ticket       891 non-null    object \n",
      " 9   Fare         891 non-null    float64\n",
      " 10  Cabin        204 non-null    object \n",
      " 11  Embarked     889 non-null    object \n",
      "dtypes: float64(2), int64(5), object(5)\n",
      "memory usage: 83.7+ KB\n"
     ]
    }
   ],
   "source": [
    "data.info()"
   ]
  },
  {
   "cell_type": "code",
   "execution_count": 6,
   "id": "b848c7ac-f0a3-41b0-bbd8-b2d6ce89c9e6",
   "metadata": {},
   "outputs": [
    {
     "data": {
      "text/html": [
       "<div>\n",
       "<style scoped>\n",
       "    .dataframe tbody tr th:only-of-type {\n",
       "        vertical-align: middle;\n",
       "    }\n",
       "\n",
       "    .dataframe tbody tr th {\n",
       "        vertical-align: top;\n",
       "    }\n",
       "\n",
       "    .dataframe thead th {\n",
       "        text-align: right;\n",
       "    }\n",
       "</style>\n",
       "<table border=\"1\" class=\"dataframe\">\n",
       "  <thead>\n",
       "    <tr style=\"text-align: right;\">\n",
       "      <th></th>\n",
       "      <th>PassengerId</th>\n",
       "      <th>Survived</th>\n",
       "      <th>Pclass</th>\n",
       "      <th>Name</th>\n",
       "      <th>Sex</th>\n",
       "      <th>Age</th>\n",
       "      <th>SibSp</th>\n",
       "      <th>Parch</th>\n",
       "      <th>Ticket</th>\n",
       "      <th>Fare</th>\n",
       "      <th>Cabin</th>\n",
       "      <th>Embarked</th>\n",
       "    </tr>\n",
       "  </thead>\n",
       "  <tbody>\n",
       "    <tr>\n",
       "      <th>0</th>\n",
       "      <td>1</td>\n",
       "      <td>0</td>\n",
       "      <td>3</td>\n",
       "      <td>Braund, Mr. Owen Harris</td>\n",
       "      <td>male</td>\n",
       "      <td>22.0</td>\n",
       "      <td>1</td>\n",
       "      <td>0</td>\n",
       "      <td>A/5 21171</td>\n",
       "      <td>7.2500</td>\n",
       "      <td>NaN</td>\n",
       "      <td>S</td>\n",
       "    </tr>\n",
       "    <tr>\n",
       "      <th>1</th>\n",
       "      <td>2</td>\n",
       "      <td>1</td>\n",
       "      <td>1</td>\n",
       "      <td>Cumings, Mrs. John Bradley (Florence Briggs Th...</td>\n",
       "      <td>female</td>\n",
       "      <td>38.0</td>\n",
       "      <td>1</td>\n",
       "      <td>0</td>\n",
       "      <td>PC 17599</td>\n",
       "      <td>71.2833</td>\n",
       "      <td>C85</td>\n",
       "      <td>C</td>\n",
       "    </tr>\n",
       "    <tr>\n",
       "      <th>2</th>\n",
       "      <td>3</td>\n",
       "      <td>1</td>\n",
       "      <td>3</td>\n",
       "      <td>Heikkinen, Miss. Laina</td>\n",
       "      <td>female</td>\n",
       "      <td>26.0</td>\n",
       "      <td>0</td>\n",
       "      <td>0</td>\n",
       "      <td>STON/O2. 3101282</td>\n",
       "      <td>7.9250</td>\n",
       "      <td>NaN</td>\n",
       "      <td>S</td>\n",
       "    </tr>\n",
       "    <tr>\n",
       "      <th>3</th>\n",
       "      <td>4</td>\n",
       "      <td>1</td>\n",
       "      <td>1</td>\n",
       "      <td>Futrelle, Mrs. Jacques Heath (Lily May Peel)</td>\n",
       "      <td>female</td>\n",
       "      <td>35.0</td>\n",
       "      <td>1</td>\n",
       "      <td>0</td>\n",
       "      <td>113803</td>\n",
       "      <td>53.1000</td>\n",
       "      <td>C123</td>\n",
       "      <td>S</td>\n",
       "    </tr>\n",
       "    <tr>\n",
       "      <th>4</th>\n",
       "      <td>5</td>\n",
       "      <td>0</td>\n",
       "      <td>3</td>\n",
       "      <td>Allen, Mr. William Henry</td>\n",
       "      <td>male</td>\n",
       "      <td>35.0</td>\n",
       "      <td>0</td>\n",
       "      <td>0</td>\n",
       "      <td>373450</td>\n",
       "      <td>8.0500</td>\n",
       "      <td>NaN</td>\n",
       "      <td>S</td>\n",
       "    </tr>\n",
       "  </tbody>\n",
       "</table>\n",
       "</div>"
      ],
      "text/plain": [
       "   PassengerId  Survived  Pclass  \\\n",
       "0            1         0       3   \n",
       "1            2         1       1   \n",
       "2            3         1       3   \n",
       "3            4         1       1   \n",
       "4            5         0       3   \n",
       "\n",
       "                                                Name     Sex   Age  SibSp  \\\n",
       "0                            Braund, Mr. Owen Harris    male  22.0      1   \n",
       "1  Cumings, Mrs. John Bradley (Florence Briggs Th...  female  38.0      1   \n",
       "2                             Heikkinen, Miss. Laina  female  26.0      0   \n",
       "3       Futrelle, Mrs. Jacques Heath (Lily May Peel)  female  35.0      1   \n",
       "4                           Allen, Mr. William Henry    male  35.0      0   \n",
       "\n",
       "   Parch            Ticket     Fare Cabin Embarked  \n",
       "0      0         A/5 21171   7.2500   NaN        S  \n",
       "1      0          PC 17599  71.2833   C85        C  \n",
       "2      0  STON/O2. 3101282   7.9250   NaN        S  \n",
       "3      0            113803  53.1000  C123        S  \n",
       "4      0            373450   8.0500   NaN        S  "
      ]
     },
     "execution_count": 6,
     "metadata": {},
     "output_type": "execute_result"
    }
   ],
   "source": [
    "data.head()"
   ]
  },
  {
   "cell_type": "markdown",
   "id": "7d733de7-255a-4c97-abb9-479052d1bab8",
   "metadata": {},
   "source": [
    "## (1) Check duplicate rows"
   ]
  },
  {
   "cell_type": "code",
   "execution_count": 8,
   "id": "1282471a-1a4b-4d4f-9f90-4ab56457acba",
   "metadata": {},
   "outputs": [
    {
     "data": {
      "text/plain": [
       "0      False\n",
       "1      False\n",
       "2      False\n",
       "3      False\n",
       "4      False\n",
       "       ...  \n",
       "886    False\n",
       "887    False\n",
       "888    False\n",
       "889    False\n",
       "890    False\n",
       "Length: 891, dtype: bool"
      ]
     },
     "execution_count": 8,
     "metadata": {},
     "output_type": "execute_result"
    }
   ],
   "source": [
    "data.duplicated()"
   ]
  },
  {
   "cell_type": "code",
   "execution_count": 9,
   "id": "0dd9c48a-6096-4b36-9dc8-4092c48c62a0",
   "metadata": {},
   "outputs": [
    {
     "data": {
      "text/plain": [
       "0"
      ]
     },
     "execution_count": 9,
     "metadata": {},
     "output_type": "execute_result"
    }
   ],
   "source": [
    "data.duplicated().sum() # check how many duplicate rows we have"
   ]
  },
  {
   "cell_type": "code",
   "execution_count": 11,
   "id": "fcd2c397-6658-4bdd-9c73-cb7054f02650",
   "metadata": {},
   "outputs": [],
   "source": [
    "# if there are duplicate rows, how to delte?\n",
    "# Drop duplicate rows, keeping the first occurrence\n",
    "data = data.drop_duplicates()"
   ]
  },
  {
   "cell_type": "markdown",
   "id": "993e51c5-a0aa-4643-a5b4-b3a710519678",
   "metadata": {},
   "source": [
    "## (2) Count unique values (for categorical columns)"
   ]
  },
  {
   "cell_type": "code",
   "execution_count": 12,
   "id": "12f4c9c7-2d2c-4445-9751-cff574b90b52",
   "metadata": {},
   "outputs": [
    {
     "name": "stdout",
     "output_type": "stream",
     "text": [
      "<class 'pandas.core.frame.DataFrame'>\n",
      "Int64Index: 891 entries, 0 to 890\n",
      "Data columns (total 12 columns):\n",
      " #   Column       Non-Null Count  Dtype  \n",
      "---  ------       --------------  -----  \n",
      " 0   PassengerId  891 non-null    int64  \n",
      " 1   Survived     891 non-null    int64  \n",
      " 2   Pclass       891 non-null    int64  \n",
      " 3   Name         891 non-null    object \n",
      " 4   Sex          891 non-null    object \n",
      " 5   Age          714 non-null    float64\n",
      " 6   SibSp        891 non-null    int64  \n",
      " 7   Parch        891 non-null    int64  \n",
      " 8   Ticket       891 non-null    object \n",
      " 9   Fare         891 non-null    float64\n",
      " 10  Cabin        204 non-null    object \n",
      " 11  Embarked     889 non-null    object \n",
      "dtypes: float64(2), int64(5), object(5)\n",
      "memory usage: 90.5+ KB\n"
     ]
    }
   ],
   "source": [
    "data.info()"
   ]
  },
  {
   "cell_type": "code",
   "execution_count": 14,
   "id": "afd48d23-eef4-494f-b528-1ec62f2548ab",
   "metadata": {},
   "outputs": [],
   "source": [
    "cal_col = [col for col in data.columns if data[col].dtype=='object']\n",
    "num_col = [col for col in data.columns if data[col].dtype!='object']"
   ]
  },
  {
   "cell_type": "code",
   "execution_count": 15,
   "id": "7e0189f1-7cff-412b-a3fa-e9660efdedec",
   "metadata": {},
   "outputs": [
    {
     "data": {
      "text/plain": [
       "Name        891\n",
       "Sex           2\n",
       "Ticket      681\n",
       "Cabin       147\n",
       "Embarked      3\n",
       "dtype: int64"
      ]
     },
     "execution_count": 15,
     "metadata": {},
     "output_type": "execute_result"
    }
   ],
   "source": [
    "data[cal_col].nunique()"
   ]
  },
  {
   "cell_type": "markdown",
   "id": "636c72ee-8c99-4873-8369-fbba298ad1b8",
   "metadata": {},
   "source": [
    "## (3) Check missing values as percentage"
   ]
  },
  {
   "cell_type": "code",
   "execution_count": 24,
   "id": "b943814b-ff3e-441a-9c83-a73350b39c95",
   "metadata": {},
   "outputs": [
    {
     "data": {
      "text/plain": [
       "PassengerId     0.00\n",
       "Survived        0.00\n",
       "Pclass          0.00\n",
       "Name            0.00\n",
       "Sex             0.00\n",
       "Age            19.87\n",
       "SibSp           0.00\n",
       "Parch           0.00\n",
       "Ticket          0.00\n",
       "Fare            0.00\n",
       "Cabin          77.10\n",
       "Embarked        0.22\n",
       "dtype: float64"
      ]
     },
     "execution_count": 24,
     "metadata": {},
     "output_type": "execute_result"
    }
   ],
   "source": [
    "round(data.isnull().sum()/data.shape[0]*100, 2)"
   ]
  },
  {
   "cell_type": "markdown",
   "id": "3c523688-49e0-476b-82f9-92a1f0864007",
   "metadata": {},
   "source": [
    "## (4) Handling missing values.\n",
    "\n",
    "Discard, or use mean, median, mode to replace, or mark it as unkonwn"
   ]
  },
  {
   "cell_type": "code",
   "execution_count": 28,
   "id": "074fdd5a-91f9-4403-85c1-865b608a9dd4",
   "metadata": {},
   "outputs": [],
   "source": [
    "# To discard data-heavy missing columns\n",
    "data = data.drop(columns=['Cabin'])\n",
    "data.dropna(subset=['Embarked'], inplace = True)\n",
    "data['Age'].fillna(data['Age'].mean(), inplace = True)"
   ]
  },
  {
   "cell_type": "markdown",
   "id": "a74e2848-8df0-4e85-8aa3-61ae8cd977ed",
   "metadata": {},
   "source": [
    "## (5) Check outliers"
   ]
  },
  {
   "cell_type": "markdown",
   "id": "3d8a6e98-571a-4835-a760-6bb8879febff",
   "metadata": {},
   "source": [
    "### Method 1: IQR"
   ]
  },
  {
   "cell_type": "code",
   "execution_count": 32,
   "id": "fe0404f3-abfb-4dc9-b1bb-847fd2cadf38",
   "metadata": {},
   "outputs": [
    {
     "data": {
      "image/png": "[encoded data removed]",
      "text/plain": [
       "<Figure size 432x288 with 1 Axes>"
      ]
     },
     "metadata": {
      "needs_background": "light"
     },
     "output_type": "display_data"
    }
   ],
   "source": [
    "# Box plot (IQR)\n",
    "plt.boxplot(data['Age'])\n",
    "plt.ylabel('Age')\n",
    "plt.show()"
   ]
  },
  {
   "cell_type": "code",
   "execution_count": 36,
   "id": "74b5e6af-4bb2-420a-b692-e243c06f3e38",
   "metadata": {},
   "outputs": [],
   "source": [
    "IQ1 = np.percentile(data['Age'].values,25)"
   ]
  },
  {
   "cell_type": "code",
   "execution_count": 37,
   "id": "d2365fbd-0ab9-4833-a724-c70555c20841",
   "metadata": {},
   "outputs": [],
   "source": [
    "IQ3 = np.percentile(data['Age'].values,75)"
   ]
  },
  {
   "cell_type": "code",
   "execution_count": 38,
   "id": "7581ee2c-a457-4c0e-915d-6299639bdda8",
   "metadata": {},
   "outputs": [],
   "source": [
    "IQ = IQ3-IQ1"
   ]
  },
  {
   "cell_type": "code",
   "execution_count": 39,
   "id": "259d3aee-09e9-48f3-9248-422c3507fb14",
   "metadata": {},
   "outputs": [],
   "source": [
    "lower_bound = IQ1-1.5*IQ"
   ]
  },
  {
   "cell_type": "code",
   "execution_count": 40,
   "id": "12607572-f257-4dbc-a719-0b62a749b883",
   "metadata": {},
   "outputs": [],
   "source": [
    "upper_bound = IQ3 + 1.5*IQ"
   ]
  },
  {
   "cell_type": "code",
   "execution_count": 42,
   "id": "8b4714f1-b373-4fb8-9c54-fbaf2f0a5742",
   "metadata": {},
   "outputs": [
    {
     "data": {
      "text/plain": [
       "(2.5, 54.5)"
      ]
     },
     "execution_count": 42,
     "metadata": {},
     "output_type": "execute_result"
    }
   ],
   "source": [
    "lower_bound, upper_bound"
   ]
  },
  {
   "cell_type": "markdown",
   "id": "d1345f23-a0c8-4a7f-bcca-0c7895571c6d",
   "metadata": {},
   "source": [
    "### Method2 Z-score"
   ]
  },
  {
   "cell_type": "code",
   "execution_count": 45,
   "id": "f15d8422-e3ec-40b1-942d-bbcc2605d715",
   "metadata": {},
   "outputs": [],
   "source": [
    "mean = data['Age'].mean()\n",
    "std = data['Age'].std()"
   ]
  },
  {
   "cell_type": "code",
   "execution_count": 46,
   "id": "0a5282eb-f0c8-404d-a561-60dce1c76030",
   "metadata": {},
   "outputs": [
    {
     "data": {
      "text/plain": [
       "(29.642092696629216, 12.968346294351779)"
      ]
     },
     "execution_count": 46,
     "metadata": {},
     "output_type": "execute_result"
    }
   ],
   "source": [
    "mean, std"
   ]
  },
  {
   "cell_type": "code",
   "execution_count": 47,
   "id": "7d8df8e1-f291-430a-ba6d-54cb528330de",
   "metadata": {},
   "outputs": [],
   "source": [
    "lower_bound2 = mean-2*std"
   ]
  },
  {
   "cell_type": "code",
   "execution_count": 48,
   "id": "ec61e94c-e922-4097-b6b0-c5c7e046db8f",
   "metadata": {},
   "outputs": [],
   "source": [
    "upper_bound2 = mean+2*std"
   ]
  },
  {
   "cell_type": "code",
   "execution_count": 49,
   "id": "ecc2249f-098a-4eae-93bd-f734598ccd5e",
   "metadata": {},
   "outputs": [
    {
     "data": {
      "text/plain": [
       "(3.7054001079256587, 55.57878528533277)"
      ]
     },
     "execution_count": 49,
     "metadata": {},
     "output_type": "execute_result"
    }
   ],
   "source": [
    "lower_bound2, upper_bound2"
   ]
  },
  {
   "cell_type": "code",
   "execution_count": 50,
   "id": "567ca15d-fc34-4de5-a3c1-684d3fd21950",
   "metadata": {},
   "outputs": [],
   "source": [
    "data = data[(data['Age']>=lower_bound2)&(data['Age']<=upper_bound2)]"
   ]
  },
  {
   "cell_type": "code",
   "execution_count": null,
   "id": "3511b49a-3314-4ae3-a89c-423a02010aa9",
   "metadata": {},
   "outputs": [],
   "source": []
  }
 ],
 "metadata": {
  "kernelspec": {
   "display_name": "Python 3 (ipykernel)",
   "language": "python",
   "name": "python3"
  },
  "language_info": {
   "codemirror_mode": {
    "name": "ipython",
    "version": 3
   },
   "file_extension": ".py",
   "mimetype": "text/x-python",
   "name": "python",
   "nbconvert_exporter": "python",
   "pygments_lexer": "ipython3",
   "version": "3.8.8"
  }
 },
 "nbformat": 4,
 "nbformat_minor": 5
}
