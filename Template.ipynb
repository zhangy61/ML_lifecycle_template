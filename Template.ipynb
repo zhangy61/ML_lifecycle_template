{
 "cells": [
  {
   "cell_type": "markdown",
   "id": "cb8bb621-b028-4772-b2d3-46c5dd861220",
   "metadata": {},
   "source": [
    "# A template to go through the regular data and modelling."
   ]
  },
  {
   "cell_type": "markdown",
   "id": "27838490-0596-4974-b308-a5c644191c2e",
   "metadata": {},
   "source": [
    "## Dependencies"
   ]
  },
  {
   "cell_type": "code",
   "execution_count": 1,
   "id": "cd9d1af8-8ce7-4867-99a6-d6a0d7c6592b",
   "metadata": {},
   "outputs": [],
   "source": [
    "#general \n",
    "import pandas as pd\n",
    "import numpy as np"
   ]
  },
  {
   "cell_type": "code",
   "execution_count": 3,
   "id": "426ffb66-b768-45ac-bed5-17ae93f80ef4",
   "metadata": {},
   "outputs": [],
   "source": [
    "#plot\n",
    "import matplotlib.pyplot as plt\n",
    "import seaborn as sns"
   ]
  },
  {
   "cell_type": "code",
   "execution_count": 300,
   "id": "10a76910-bfba-4ed9-828c-2c324d540071",
   "metadata": {},
   "outputs": [],
   "source": [
    "#metrics\n",
    "from sklearn.metrics import accuracy_score, classification_report, f1_score, recall_score, precision_score\n",
    "from sklearn.metrics import confusion_matrix,ConfusionMatrixDisplay, precision_recall_curve, roc_auc_score, roc_curve"
   ]
  },
  {
   "cell_type": "code",
   "execution_count": 6,
   "id": "c41cd6f5-d644-41bf-9470-dc8c7f154a98",
   "metadata": {},
   "outputs": [],
   "source": [
    "#data processing for numerical features\n",
    "from sklearn.preprocessing import StandardScaler, MinMaxScaler, RobustScaler\n",
    "# Encoders for categoriacl features\n",
    "from sklearn.preprocessing import OneHotEncoder, LabelEncoder\n",
    "from category_encoders import TargetEncoder"
   ]
  },
  {
   "cell_type": "code",
   "execution_count": 9,
   "id": "2bbf26a1-0d92-401d-9afc-cf7ae688618c",
   "metadata": {},
   "outputs": [],
   "source": [
    "# handle keywrods, text\n",
    "from sklearn.feature_extraction.text import TfidfVectorizer"
   ]
  },
  {
   "cell_type": "code",
   "execution_count": 11,
   "id": "7fa57a41-f4f1-48fc-b9cb-f4f411307069",
   "metadata": {},
   "outputs": [],
   "source": [
    "# reduce dimensions\n",
    "from sklearn.decomposition import PCA\n",
    "from sklearn.manifold import TSNE\n",
    "#import UMAP"
   ]
  },
  {
   "cell_type": "code",
   "execution_count": 13,
   "id": "b6597228-fe9c-4703-9982-cfe3c928c3c7",
   "metadata": {},
   "outputs": [],
   "source": [
    "#model selection\n",
    "from sklearn.model_selection import train_test_split, RepeatedStratifiedKFold, RandomizedSearchCV, GridSearchCV"
   ]
  },
  {
   "cell_type": "code",
   "execution_count": 15,
   "id": "5d311726-1966-4aab-ac99-61a2dd6f87db",
   "metadata": {},
   "outputs": [],
   "source": [
    "#classical models\n",
    "from sklearn.linear_model import LogisticRegression, LinearRegression\n",
    "from sklearn.ensemble import RandomForestClassifier\n",
    "from sklearn import svm\n",
    "import xgboost as xgb"
   ]
  },
  {
   "cell_type": "markdown",
   "id": "7b400800-59f3-4f50-abbf-13126d27e0ef",
   "metadata": {},
   "source": [
    "# 1  Data Collection and Preparation"
   ]
  },
  {
   "cell_type": "code",
   "execution_count": 18,
   "id": "ad891aeb-7471-4753-9f8a-6b90107a1a04",
   "metadata": {},
   "outputs": [],
   "source": [
    "data = pd.read_csv('.\\custom_churn\\data\\WA_Fn-UseC_-Telco-Customer-Churn.csv')"
   ]
  },
  {
   "cell_type": "code",
   "execution_count": 20,
   "id": "5a3f8c62-f75b-463a-944f-6af49224c616",
   "metadata": {},
   "outputs": [
    {
     "data": {
      "text/html": [
       "<div>\n",
       "<style scoped>\n",
       "    .dataframe tbody tr th:only-of-type {\n",
       "        vertical-align: middle;\n",
       "    }\n",
       "\n",
       "    .dataframe tbody tr th {\n",
       "        vertical-align: top;\n",
       "    }\n",
       "\n",
       "    .dataframe thead th {\n",
       "        text-align: right;\n",
       "    }\n",
       "</style>\n",
       "<table border=\"1\" class=\"dataframe\">\n",
       "  <thead>\n",
       "    <tr style=\"text-align: right;\">\n",
       "      <th></th>\n",
       "      <th>customerID</th>\n",
       "      <th>gender</th>\n",
       "      <th>SeniorCitizen</th>\n",
       "      <th>Partner</th>\n",
       "      <th>Dependents</th>\n",
       "      <th>tenure</th>\n",
       "      <th>PhoneService</th>\n",
       "      <th>MultipleLines</th>\n",
       "      <th>InternetService</th>\n",
       "      <th>OnlineSecurity</th>\n",
       "      <th>...</th>\n",
       "      <th>DeviceProtection</th>\n",
       "      <th>TechSupport</th>\n",
       "      <th>StreamingTV</th>\n",
       "      <th>StreamingMovies</th>\n",
       "      <th>Contract</th>\n",
       "      <th>PaperlessBilling</th>\n",
       "      <th>PaymentMethod</th>\n",
       "      <th>MonthlyCharges</th>\n",
       "      <th>TotalCharges</th>\n",
       "      <th>Churn</th>\n",
       "    </tr>\n",
       "  </thead>\n",
       "  <tbody>\n",
       "    <tr>\n",
       "      <th>0</th>\n",
       "      <td>7590-VHVEG</td>\n",
       "      <td>Female</td>\n",
       "      <td>0</td>\n",
       "      <td>Yes</td>\n",
       "      <td>No</td>\n",
       "      <td>1</td>\n",
       "      <td>No</td>\n",
       "      <td>No phone service</td>\n",
       "      <td>DSL</td>\n",
       "      <td>No</td>\n",
       "      <td>...</td>\n",
       "      <td>No</td>\n",
       "      <td>No</td>\n",
       "      <td>No</td>\n",
       "      <td>No</td>\n",
       "      <td>Month-to-month</td>\n",
       "      <td>Yes</td>\n",
       "      <td>Electronic check</td>\n",
       "      <td>29.85</td>\n",
       "      <td>29.85</td>\n",
       "      <td>No</td>\n",
       "    </tr>\n",
       "    <tr>\n",
       "      <th>1</th>\n",
       "      <td>5575-GNVDE</td>\n",
       "      <td>Male</td>\n",
       "      <td>0</td>\n",
       "      <td>No</td>\n",
       "      <td>No</td>\n",
       "      <td>34</td>\n",
       "      <td>Yes</td>\n",
       "      <td>No</td>\n",
       "      <td>DSL</td>\n",
       "      <td>Yes</td>\n",
       "      <td>...</td>\n",
       "      <td>Yes</td>\n",
       "      <td>No</td>\n",
       "      <td>No</td>\n",
       "      <td>No</td>\n",
       "      <td>One year</td>\n",
       "      <td>No</td>\n",
       "      <td>Mailed check</td>\n",
       "      <td>56.95</td>\n",
       "      <td>1889.5</td>\n",
       "      <td>No</td>\n",
       "    </tr>\n",
       "    <tr>\n",
       "      <th>2</th>\n",
       "      <td>3668-QPYBK</td>\n",
       "      <td>Male</td>\n",
       "      <td>0</td>\n",
       "      <td>No</td>\n",
       "      <td>No</td>\n",
       "      <td>2</td>\n",
       "      <td>Yes</td>\n",
       "      <td>No</td>\n",
       "      <td>DSL</td>\n",
       "      <td>Yes</td>\n",
       "      <td>...</td>\n",
       "      <td>No</td>\n",
       "      <td>No</td>\n",
       "      <td>No</td>\n",
       "      <td>No</td>\n",
       "      <td>Month-to-month</td>\n",
       "      <td>Yes</td>\n",
       "      <td>Mailed check</td>\n",
       "      <td>53.85</td>\n",
       "      <td>108.15</td>\n",
       "      <td>Yes</td>\n",
       "    </tr>\n",
       "    <tr>\n",
       "      <th>3</th>\n",
       "      <td>7795-CFOCW</td>\n",
       "      <td>Male</td>\n",
       "      <td>0</td>\n",
       "      <td>No</td>\n",
       "      <td>No</td>\n",
       "      <td>45</td>\n",
       "      <td>No</td>\n",
       "      <td>No phone service</td>\n",
       "      <td>DSL</td>\n",
       "      <td>Yes</td>\n",
       "      <td>...</td>\n",
       "      <td>Yes</td>\n",
       "      <td>Yes</td>\n",
       "      <td>No</td>\n",
       "      <td>No</td>\n",
       "      <td>One year</td>\n",
       "      <td>No</td>\n",
       "      <td>Bank transfer (automatic)</td>\n",
       "      <td>42.30</td>\n",
       "      <td>1840.75</td>\n",
       "      <td>No</td>\n",
       "    </tr>\n",
       "    <tr>\n",
       "      <th>4</th>\n",
       "      <td>9237-HQITU</td>\n",
       "      <td>Female</td>\n",
       "      <td>0</td>\n",
       "      <td>No</td>\n",
       "      <td>No</td>\n",
       "      <td>2</td>\n",
       "      <td>Yes</td>\n",
       "      <td>No</td>\n",
       "      <td>Fiber optic</td>\n",
       "      <td>No</td>\n",
       "      <td>...</td>\n",
       "      <td>No</td>\n",
       "      <td>No</td>\n",
       "      <td>No</td>\n",
       "      <td>No</td>\n",
       "      <td>Month-to-month</td>\n",
       "      <td>Yes</td>\n",
       "      <td>Electronic check</td>\n",
       "      <td>70.70</td>\n",
       "      <td>151.65</td>\n",
       "      <td>Yes</td>\n",
       "    </tr>\n",
       "  </tbody>\n",
       "</table>\n",
       "<p>5 rows × 21 columns</p>\n",
       "</div>"
      ],
      "text/plain": [
       "   customerID  gender  SeniorCitizen Partner Dependents  tenure PhoneService  \\\n",
       "0  7590-VHVEG  Female              0     Yes         No       1           No   \n",
       "1  5575-GNVDE    Male              0      No         No      34          Yes   \n",
       "2  3668-QPYBK    Male              0      No         No       2          Yes   \n",
       "3  7795-CFOCW    Male              0      No         No      45           No   \n",
       "4  9237-HQITU  Female              0      No         No       2          Yes   \n",
       "\n",
       "      MultipleLines InternetService OnlineSecurity  ... DeviceProtection  \\\n",
       "0  No phone service             DSL             No  ...               No   \n",
       "1                No             DSL            Yes  ...              Yes   \n",
       "2                No             DSL            Yes  ...               No   \n",
       "3  No phone service             DSL            Yes  ...              Yes   \n",
       "4                No     Fiber optic             No  ...               No   \n",
       "\n",
       "  TechSupport StreamingTV StreamingMovies        Contract PaperlessBilling  \\\n",
       "0          No          No              No  Month-to-month              Yes   \n",
       "1          No          No              No        One year               No   \n",
       "2          No          No              No  Month-to-month              Yes   \n",
       "3         Yes          No              No        One year               No   \n",
       "4          No          No              No  Month-to-month              Yes   \n",
       "\n",
       "               PaymentMethod MonthlyCharges  TotalCharges Churn  \n",
       "0           Electronic check          29.85         29.85    No  \n",
       "1               Mailed check          56.95        1889.5    No  \n",
       "2               Mailed check          53.85        108.15   Yes  \n",
       "3  Bank transfer (automatic)          42.30       1840.75    No  \n",
       "4           Electronic check          70.70        151.65   Yes  \n",
       "\n",
       "[5 rows x 21 columns]"
      ]
     },
     "execution_count": 20,
     "metadata": {},
     "output_type": "execute_result"
    }
   ],
   "source": [
    "data.head()"
   ]
  },
  {
   "cell_type": "markdown",
   "id": "6f71ee60-17e8-4061-81f3-c998fa3b77f4",
   "metadata": {},
   "source": [
    "## 1.1 Check duplicates and missing data"
   ]
  },
  {
   "cell_type": "code",
   "execution_count": 23,
   "id": "ef172ef4-8408-4e88-84e7-87d123912cd7",
   "metadata": {},
   "outputs": [
    {
     "data": {
      "text/plain": [
       "Index(['customerID', 'gender', 'SeniorCitizen', 'Partner', 'Dependents',\n",
       "       'tenure', 'PhoneService', 'MultipleLines', 'InternetService',\n",
       "       'OnlineSecurity', 'OnlineBackup', 'DeviceProtection', 'TechSupport',\n",
       "       'StreamingTV', 'StreamingMovies', 'Contract', 'PaperlessBilling',\n",
       "       'PaymentMethod', 'MonthlyCharges', 'TotalCharges', 'Churn'],\n",
       "      dtype='object')"
      ]
     },
     "execution_count": 23,
     "metadata": {},
     "output_type": "execute_result"
    }
   ],
   "source": [
    "data.columns"
   ]
  },
  {
   "cell_type": "code",
   "execution_count": 25,
   "id": "ec924bbd-9bc0-4201-930a-bc10c60a341f",
   "metadata": {},
   "outputs": [
    {
     "name": "stdout",
     "output_type": "stream",
     "text": [
      "<class 'pandas.core.frame.DataFrame'>\n",
      "RangeIndex: 7043 entries, 0 to 7042\n",
      "Data columns (total 21 columns):\n",
      " #   Column            Non-Null Count  Dtype  \n",
      "---  ------            --------------  -----  \n",
      " 0   customerID        7043 non-null   object \n",
      " 1   gender            7043 non-null   object \n",
      " 2   SeniorCitizen     7043 non-null   int64  \n",
      " 3   Partner           7043 non-null   object \n",
      " 4   Dependents        7043 non-null   object \n",
      " 5   tenure            7043 non-null   int64  \n",
      " 6   PhoneService      7043 non-null   object \n",
      " 7   MultipleLines     7043 non-null   object \n",
      " 8   InternetService   7043 non-null   object \n",
      " 9   OnlineSecurity    7043 non-null   object \n",
      " 10  OnlineBackup      7043 non-null   object \n",
      " 11  DeviceProtection  7043 non-null   object \n",
      " 12  TechSupport       7043 non-null   object \n",
      " 13  StreamingTV       7043 non-null   object \n",
      " 14  StreamingMovies   7043 non-null   object \n",
      " 15  Contract          7043 non-null   object \n",
      " 16  PaperlessBilling  7043 non-null   object \n",
      " 17  PaymentMethod     7043 non-null   object \n",
      " 18  MonthlyCharges    7043 non-null   float64\n",
      " 19  TotalCharges      7043 non-null   object \n",
      " 20  Churn             7043 non-null   object \n",
      "dtypes: float64(1), int64(2), object(18)\n",
      "memory usage: 1.1+ MB\n"
     ]
    }
   ],
   "source": [
    "#Check missing data\n",
    "data.info()"
   ]
  },
  {
   "cell_type": "code",
   "execution_count": 27,
   "id": "a9e2955e-1912-4585-88e1-50300f83d1b5",
   "metadata": {},
   "outputs": [
    {
     "data": {
      "text/plain": [
       "customerID          0\n",
       "gender              0\n",
       "SeniorCitizen       0\n",
       "Partner             0\n",
       "Dependents          0\n",
       "tenure              0\n",
       "PhoneService        0\n",
       "MultipleLines       0\n",
       "InternetService     0\n",
       "OnlineSecurity      0\n",
       "OnlineBackup        0\n",
       "DeviceProtection    0\n",
       "TechSupport         0\n",
       "StreamingTV         0\n",
       "StreamingMovies     0\n",
       "Contract            0\n",
       "PaperlessBilling    0\n",
       "PaymentMethod       0\n",
       "MonthlyCharges      0\n",
       "TotalCharges        0\n",
       "Churn               0\n",
       "dtype: int64"
      ]
     },
     "execution_count": 27,
     "metadata": {},
     "output_type": "execute_result"
    }
   ],
   "source": [
    "#Another way to check\n",
    "data.isnull().sum()"
   ]
  },
  {
   "cell_type": "code",
   "execution_count": 29,
   "id": "9cb94add-b285-4cd6-b9bf-9995c97cc834",
   "metadata": {},
   "outputs": [
    {
     "data": {
      "text/plain": [
       "0       False\n",
       "1       False\n",
       "2       False\n",
       "3       False\n",
       "4       False\n",
       "        ...  \n",
       "7038    False\n",
       "7039    False\n",
       "7040    False\n",
       "7041    False\n",
       "7042    False\n",
       "Length: 7043, dtype: bool"
      ]
     },
     "execution_count": 29,
     "metadata": {},
     "output_type": "execute_result"
    }
   ],
   "source": [
    "#Check duplicates\n",
    "data.duplicated()"
   ]
  },
  {
   "cell_type": "code",
   "execution_count": 31,
   "id": "7c29a667-edf4-4973-a3dd-2d92a4117bef",
   "metadata": {},
   "outputs": [],
   "source": [
    "#If there is duplicate rows, use this to identify \n",
    "#duplicate_rows = df[df.duplicated()]"
   ]
  },
  {
   "cell_type": "code",
   "execution_count": 33,
   "id": "4c9242c3-19fa-4b49-bbe7-dd6f3f2b254a",
   "metadata": {},
   "outputs": [],
   "source": [
    "#drop duplicates\n",
    "#data_unique = data.drop_duplicates()"
   ]
  },
  {
   "cell_type": "code",
   "execution_count": null,
   "id": "188d1d3d-2370-4a35-a6d8-a7df68bfa8e2",
   "metadata": {},
   "outputs": [],
   "source": []
  },
  {
   "cell_type": "markdown",
   "id": "aebf9aba-34c5-4588-9567-f6e762cb37b2",
   "metadata": {},
   "source": [
    "## 1.2  Identify the target variable and how you would collect and label it if necessary"
   ]
  },
  {
   "cell_type": "code",
   "execution_count": 37,
   "id": "b02a24d0-09f8-4d81-a6bf-07d5b6832c99",
   "metadata": {},
   "outputs": [
    {
     "data": {
      "text/plain": [
       "Churn\n",
       "No     5174\n",
       "Yes    1869\n",
       "dtype: int64"
      ]
     },
     "execution_count": 37,
     "metadata": {},
     "output_type": "execute_result"
    }
   ],
   "source": [
    "data.groupby('Churn').size()"
   ]
  },
  {
   "cell_type": "code",
   "execution_count": 39,
   "id": "19514242-7e50-44ae-91a1-54e62a6e8255",
   "metadata": {},
   "outputs": [],
   "source": [
    "# Binary classification"
   ]
  },
  {
   "cell_type": "code",
   "execution_count": 41,
   "id": "3fa21a71-7709-429f-937b-0e9105407575",
   "metadata": {},
   "outputs": [],
   "source": [
    "data['Target'] = data['Churn'].apply(lambda x: 0 if x =='No' else 1)"
   ]
  },
  {
   "cell_type": "markdown",
   "id": "fce4ab36-4289-48bb-8540-011a7384c294",
   "metadata": {},
   "source": [
    "## 1.3 discuss possible features if featuers are not provided"
   ]
  },
  {
   "cell_type": "markdown",
   "id": "a2d847b8-5393-4f8c-b47c-b4ecbc91fd5c",
   "metadata": {},
   "source": [
    "## 1.4 Check the balance of the data\n",
    "If the dataset is imbalance, possible solutions:\n",
    "\n",
    "For data \n",
    "\n",
    "(1) Oversampling, use KNN, SMOTE to get more data samples for the minority class\n",
    "\n",
    "(2) Undersampling, reduce the number of the majority class\n",
    "\n",
    "(3) Other data augmentation methods: image rotation, crop, flip, add noise, ...\n",
    "\n",
    "For model:\n",
    "Adjust the weights of the loss function"
   ]
  },
  {
   "cell_type": "markdown",
   "id": "5658f6dc-0f26-487e-9b57-8e994a06464c",
   "metadata": {},
   "source": [
    "## 1.5 Check possible highly correlated features"
   ]
  },
  {
   "cell_type": "code",
   "execution_count": 46,
   "id": "d7af97c2-ca1b-4128-be99-1efc0e834513",
   "metadata": {},
   "outputs": [],
   "source": [
    "data.loc[data['TotalCharges']==' ','TotalCharges'] = '0'"
   ]
  },
  {
   "cell_type": "code",
   "execution_count": 48,
   "id": "c9a66dcf-6992-4f0e-ae9d-2362de868c7c",
   "metadata": {},
   "outputs": [],
   "source": [
    "data['TotalCharges'] =  data['TotalCharges'].astype('float')"
   ]
  },
  {
   "cell_type": "code",
   "execution_count": 50,
   "id": "8e705d9b-685e-4f34-96c0-e912340ac6b5",
   "metadata": {},
   "outputs": [
    {
     "data": {
      "text/html": [
       "<div>\n",
       "<style scoped>\n",
       "    .dataframe tbody tr th:only-of-type {\n",
       "        vertical-align: middle;\n",
       "    }\n",
       "\n",
       "    .dataframe tbody tr th {\n",
       "        vertical-align: top;\n",
       "    }\n",
       "\n",
       "    .dataframe thead th {\n",
       "        text-align: right;\n",
       "    }\n",
       "</style>\n",
       "<table border=\"1\" class=\"dataframe\">\n",
       "  <thead>\n",
       "    <tr style=\"text-align: right;\">\n",
       "      <th></th>\n",
       "      <th>SeniorCitizen</th>\n",
       "      <th>tenure</th>\n",
       "      <th>MonthlyCharges</th>\n",
       "      <th>TotalCharges</th>\n",
       "      <th>Target</th>\n",
       "    </tr>\n",
       "  </thead>\n",
       "  <tbody>\n",
       "    <tr>\n",
       "      <th>SeniorCitizen</th>\n",
       "      <td>1.000000</td>\n",
       "      <td>0.016567</td>\n",
       "      <td>0.220173</td>\n",
       "      <td>0.103006</td>\n",
       "      <td>0.150889</td>\n",
       "    </tr>\n",
       "    <tr>\n",
       "      <th>tenure</th>\n",
       "      <td>0.016567</td>\n",
       "      <td>1.000000</td>\n",
       "      <td>0.247900</td>\n",
       "      <td>0.826178</td>\n",
       "      <td>-0.352229</td>\n",
       "    </tr>\n",
       "    <tr>\n",
       "      <th>MonthlyCharges</th>\n",
       "      <td>0.220173</td>\n",
       "      <td>0.247900</td>\n",
       "      <td>1.000000</td>\n",
       "      <td>0.651174</td>\n",
       "      <td>0.193356</td>\n",
       "    </tr>\n",
       "    <tr>\n",
       "      <th>TotalCharges</th>\n",
       "      <td>0.103006</td>\n",
       "      <td>0.826178</td>\n",
       "      <td>0.651174</td>\n",
       "      <td>1.000000</td>\n",
       "      <td>-0.198324</td>\n",
       "    </tr>\n",
       "    <tr>\n",
       "      <th>Target</th>\n",
       "      <td>0.150889</td>\n",
       "      <td>-0.352229</td>\n",
       "      <td>0.193356</td>\n",
       "      <td>-0.198324</td>\n",
       "      <td>1.000000</td>\n",
       "    </tr>\n",
       "  </tbody>\n",
       "</table>\n",
       "</div>"
      ],
      "text/plain": [
       "                SeniorCitizen    tenure  MonthlyCharges  TotalCharges  \\\n",
       "SeniorCitizen        1.000000  0.016567        0.220173      0.103006   \n",
       "tenure               0.016567  1.000000        0.247900      0.826178   \n",
       "MonthlyCharges       0.220173  0.247900        1.000000      0.651174   \n",
       "TotalCharges         0.103006  0.826178        0.651174      1.000000   \n",
       "Target               0.150889 -0.352229        0.193356     -0.198324   \n",
       "\n",
       "                  Target  \n",
       "SeniorCitizen   0.150889  \n",
       "tenure         -0.352229  \n",
       "MonthlyCharges  0.193356  \n",
       "TotalCharges   -0.198324  \n",
       "Target          1.000000  "
      ]
     },
     "execution_count": 50,
     "metadata": {},
     "output_type": "execute_result"
    }
   ],
   "source": [
    "data.corr(method = 'pearson')                                                                                                        "
   ]
  },
  {
   "cell_type": "code",
   "execution_count": 52,
   "id": "dbe9f803-cf58-464e-b03b-d849f568ff28",
   "metadata": {},
   "outputs": [],
   "source": [
    "# Here tenure and TotalCharges are highly correlated because TotalCharges = tenure * MonthlyCharges"
   ]
  },
  {
   "cell_type": "code",
   "execution_count": 54,
   "id": "a3b291c2-c18c-4684-9ddf-1ae8b45478a7",
   "metadata": {},
   "outputs": [
    {
     "name": "stdout",
     "output_type": "stream",
     "text": [
      "<class 'pandas.core.frame.DataFrame'>\n",
      "RangeIndex: 7043 entries, 0 to 7042\n",
      "Data columns (total 22 columns):\n",
      " #   Column            Non-Null Count  Dtype  \n",
      "---  ------            --------------  -----  \n",
      " 0   customerID        7043 non-null   object \n",
      " 1   gender            7043 non-null   object \n",
      " 2   SeniorCitizen     7043 non-null   int64  \n",
      " 3   Partner           7043 non-null   object \n",
      " 4   Dependents        7043 non-null   object \n",
      " 5   tenure            7043 non-null   int64  \n",
      " 6   PhoneService      7043 non-null   object \n",
      " 7   MultipleLines     7043 non-null   object \n",
      " 8   InternetService   7043 non-null   object \n",
      " 9   OnlineSecurity    7043 non-null   object \n",
      " 10  OnlineBackup      7043 non-null   object \n",
      " 11  DeviceProtection  7043 non-null   object \n",
      " 12  TechSupport       7043 non-null   object \n",
      " 13  StreamingTV       7043 non-null   object \n",
      " 14  StreamingMovies   7043 non-null   object \n",
      " 15  Contract          7043 non-null   object \n",
      " 16  PaperlessBilling  7043 non-null   object \n",
      " 17  PaymentMethod     7043 non-null   object \n",
      " 18  MonthlyCharges    7043 non-null   float64\n",
      " 19  TotalCharges      7043 non-null   float64\n",
      " 20  Churn             7043 non-null   object \n",
      " 21  Target            7043 non-null   int64  \n",
      "dtypes: float64(2), int64(3), object(17)\n",
      "memory usage: 1.2+ MB\n"
     ]
    }
   ],
   "source": [
    "data.info()"
   ]
  },
  {
   "cell_type": "markdown",
   "id": "8e2e2218-8a36-4093-b228-367e13ce92b7",
   "metadata": {},
   "source": [
    "# 2 Feature engineering"
   ]
  },
  {
   "cell_type": "markdown",
   "id": "8cb981cd-0d50-49da-93e4-a1e0fb201a8e",
   "metadata": {},
   "source": [
    "### 2.1 Selecting features\n",
    "(1) Include all possible data, build a tree model and get the feature importance\n",
    "\n",
    "(2) Use permutation_importance\n",
    "\n",
    "(3) Use shap value\n",
    "\n",
    "(4) Check distribution and see if there is any signal there"
   ]
  },
  {
   "cell_type": "code",
   "execution_count": 58,
   "id": "a5fbeb18-a060-4ac6-b78c-b733f331d61e",
   "metadata": {},
   "outputs": [],
   "source": [
    "from sklearn.inspection import permutation_importance # need to be combined with a model\n",
    "#clf = xgb(...)\n",
    "#clf.feature_importances_\n",
    "import shap # need to be combined with models"
   ]
  },
  {
   "cell_type": "markdown",
   "id": "8ce863e2-6f7f-4e44-b402-2ab7aeb17573",
   "metadata": {},
   "source": [
    "#### Check distribution\n",
    "#Before we build any models, we can simply look into the distributions to see if any signal is included in the feature.\n",
    "#For numerical features, we can check the histogram, for categorical features, we can count the frequencies under different targets"
   ]
  },
  {
   "cell_type": "code",
   "execution_count": 61,
   "id": "897edc0a-b428-406c-90c2-c1b4f3964cb3",
   "metadata": {},
   "outputs": [
    {
     "data": {
      "image/png": "[encoded data removed]",
      "text/plain": [
       "<Figure size 400x300 with 1 Axes>"
      ]
     },
     "metadata": {},
     "output_type": "display_data"
    }
   ],
   "source": [
    "plt.figure(figsize=(4,3))\n",
    "cc = plt.hist(data.loc[data['Target']==1,'tenure'].values, bins = 100, label = 'Churned', alpha = 0.6)\n",
    "cc = plt.hist(data.loc[data['Target']==0,'tenure'].values, bins = 100, label = 'Not Churned', alpha =0.6)\n",
    "plt.grid()\n",
    "plt.xlabel('Tenure')\n",
    "plt.ylabel('Count')\n",
    "plt.legend()\n",
    "plt.show()"
   ]
  },
  {
   "cell_type": "code",
   "execution_count": 63,
   "id": "85a5a2ec-b028-424a-b6af-fa720c9abe5f",
   "metadata": {},
   "outputs": [
    {
     "data": {
      "image/png": "[encoded data removed]",
      "text/plain": [
       "<Figure size 400x300 with 1 Axes>"
      ]
     },
     "metadata": {},
     "output_type": "display_data"
    }
   ],
   "source": [
    "plt.figure(figsize=(4,3))\n",
    "cc = plt.hist(data.loc[data['Target']==1,'gender'].values, bins = 4, label = 'Churned', alpha = 0.6)\n",
    "cc = plt.hist(data.loc[data['Target']==0,'gender'].values, bins = 4, label = 'Not Churned', alpha =0.6)\n",
    "plt.grid()\n",
    "plt.xlabel('Gender')\n",
    "plt.ylabel('Count')\n",
    "plt.legend()\n",
    "plt.show()"
   ]
  },
  {
   "cell_type": "markdown",
   "id": "b523e33f-f4a9-4c8c-a721-c98019d789e2",
   "metadata": {},
   "source": [
    "### 2.2 Feature representation\n",
    "#For categorical/text features, find the proper way to do embedding if the model cannot take categorical features directly\n",
    "\n",
    "#For numerical features, remove outliers, normalize the data if necessary\n",
    "\n",
    "#If too many features, consider dimension reduction"
   ]
  },
  {
   "cell_type": "markdown",
   "id": "e27f168f-93c8-4766-8115-22421a0bf9de",
   "metadata": {},
   "source": [
    "### OnehotEncoder categorical features"
   ]
  },
  {
   "cell_type": "code",
   "execution_count": 67,
   "id": "b80aab36-1731-4853-813e-7f12e51cc39c",
   "metadata": {},
   "outputs": [],
   "source": [
    "selected_categorical = ['SeniorCitizen','Partner', 'Dependents', 'PhoneService', 'MultipleLines', 'InternetService', 'OnlineSecurity', 'OnlineBackup',\\\n",
    "                       'DeviceProtection', 'TechSupport', 'StreamingTV', 'StreamingMovies', 'Contract', 'PaperlessBilling',\\\n",
    "                       'PaymentMethod']"
   ]
  },
  {
   "cell_type": "code",
   "execution_count": 69,
   "id": "6f40734f-71b5-467a-a6d4-3d0b9ea9465a",
   "metadata": {},
   "outputs": [],
   "source": [
    "selected_numerical = ['tenure', 'MonthlyCharges']"
   ]
  },
  {
   "cell_type": "code",
   "execution_count": 71,
   "id": "dc452ddf-300c-459a-ab7c-dce4a60ee26a",
   "metadata": {},
   "outputs": [],
   "source": [
    "enc = OneHotEncoder(handle_unknown='error', drop='first')"
   ]
  },
  {
   "cell_type": "code",
   "execution_count": 73,
   "id": "0dc55af5-8c0c-4d16-b77d-11be6bcd7e96",
   "metadata": {},
   "outputs": [],
   "source": [
    "feature_encoded = enc.fit_transform(data[selected_categorical])"
   ]
  },
  {
   "cell_type": "code",
   "execution_count": 75,
   "id": "6810acf1-f7c0-426d-beee-714cd0000324",
   "metadata": {},
   "outputs": [
    {
     "data": {
      "text/plain": [
       "array([[0., 1., 0., ..., 0., 1., 0.],\n",
       "       [0., 0., 0., ..., 0., 0., 1.],\n",
       "       [0., 0., 0., ..., 0., 0., 1.],\n",
       "       ...,\n",
       "       [0., 1., 1., ..., 0., 1., 0.],\n",
       "       [1., 1., 0., ..., 0., 0., 1.],\n",
       "       [0., 0., 0., ..., 0., 0., 0.]])"
      ]
     },
     "execution_count": 75,
     "metadata": {},
     "output_type": "execute_result"
    }
   ],
   "source": [
    "feature_encoded.toarray()"
   ]
  },
  {
   "cell_type": "code",
   "execution_count": 77,
   "id": "4f7d4136-746d-451a-816c-960cf79ff076",
   "metadata": {},
   "outputs": [
    {
     "data": {
      "text/plain": [
       "array(['SeniorCitizen_1', 'Partner_Yes', 'Dependents_Yes',\n",
       "       'PhoneService_Yes', 'MultipleLines_No phone service',\n",
       "       'MultipleLines_Yes', 'InternetService_Fiber optic',\n",
       "       'InternetService_No', 'OnlineSecurity_No internet service',\n",
       "       'OnlineSecurity_Yes', 'OnlineBackup_No internet service',\n",
       "       'OnlineBackup_Yes', 'DeviceProtection_No internet service',\n",
       "       'DeviceProtection_Yes', 'TechSupport_No internet service',\n",
       "       'TechSupport_Yes', 'StreamingTV_No internet service',\n",
       "       'StreamingTV_Yes', 'StreamingMovies_No internet service',\n",
       "       'StreamingMovies_Yes', 'Contract_One year', 'Contract_Two year',\n",
       "       'PaperlessBilling_Yes', 'PaymentMethod_Credit card (automatic)',\n",
       "       'PaymentMethod_Electronic check', 'PaymentMethod_Mailed check'],\n",
       "      dtype=object)"
      ]
     },
     "execution_count": 77,
     "metadata": {},
     "output_type": "execute_result"
    }
   ],
   "source": [
    "enc.get_feature_names_out()"
   ]
  },
  {
   "cell_type": "code",
   "execution_count": 79,
   "id": "a683b43c-3b5e-43f7-b8de-9b76113fa64c",
   "metadata": {},
   "outputs": [],
   "source": [
    "data_encoded = pd.DataFrame(data = feature_encoded.toarray(), columns = enc.get_feature_names_out())"
   ]
  },
  {
   "cell_type": "code",
   "execution_count": 81,
   "id": "74acecf5-3a50-4750-adc1-89375d90bb1a",
   "metadata": {},
   "outputs": [
    {
     "data": {
      "text/html": [
       "<div>\n",
       "<style scoped>\n",
       "    .dataframe tbody tr th:only-of-type {\n",
       "        vertical-align: middle;\n",
       "    }\n",
       "\n",
       "    .dataframe tbody tr th {\n",
       "        vertical-align: top;\n",
       "    }\n",
       "\n",
       "    .dataframe thead th {\n",
       "        text-align: right;\n",
       "    }\n",
       "</style>\n",
       "<table border=\"1\" class=\"dataframe\">\n",
       "  <thead>\n",
       "    <tr style=\"text-align: right;\">\n",
       "      <th></th>\n",
       "      <th>SeniorCitizen_1</th>\n",
       "      <th>Partner_Yes</th>\n",
       "      <th>Dependents_Yes</th>\n",
       "      <th>PhoneService_Yes</th>\n",
       "      <th>MultipleLines_No phone service</th>\n",
       "      <th>MultipleLines_Yes</th>\n",
       "      <th>InternetService_Fiber optic</th>\n",
       "      <th>InternetService_No</th>\n",
       "      <th>OnlineSecurity_No internet service</th>\n",
       "      <th>OnlineSecurity_Yes</th>\n",
       "      <th>...</th>\n",
       "      <th>StreamingTV_No internet service</th>\n",
       "      <th>StreamingTV_Yes</th>\n",
       "      <th>StreamingMovies_No internet service</th>\n",
       "      <th>StreamingMovies_Yes</th>\n",
       "      <th>Contract_One year</th>\n",
       "      <th>Contract_Two year</th>\n",
       "      <th>PaperlessBilling_Yes</th>\n",
       "      <th>PaymentMethod_Credit card (automatic)</th>\n",
       "      <th>PaymentMethod_Electronic check</th>\n",
       "      <th>PaymentMethod_Mailed check</th>\n",
       "    </tr>\n",
       "  </thead>\n",
       "  <tbody>\n",
       "    <tr>\n",
       "      <th>0</th>\n",
       "      <td>0.0</td>\n",
       "      <td>1.0</td>\n",
       "      <td>0.0</td>\n",
       "      <td>0.0</td>\n",
       "      <td>1.0</td>\n",
       "      <td>0.0</td>\n",
       "      <td>0.0</td>\n",
       "      <td>0.0</td>\n",
       "      <td>0.0</td>\n",
       "      <td>0.0</td>\n",
       "      <td>...</td>\n",
       "      <td>0.0</td>\n",
       "      <td>0.0</td>\n",
       "      <td>0.0</td>\n",
       "      <td>0.0</td>\n",
       "      <td>0.0</td>\n",
       "      <td>0.0</td>\n",
       "      <td>1.0</td>\n",
       "      <td>0.0</td>\n",
       "      <td>1.0</td>\n",
       "      <td>0.0</td>\n",
       "    </tr>\n",
       "    <tr>\n",
       "      <th>1</th>\n",
       "      <td>0.0</td>\n",
       "      <td>0.0</td>\n",
       "      <td>0.0</td>\n",
       "      <td>1.0</td>\n",
       "      <td>0.0</td>\n",
       "      <td>0.0</td>\n",
       "      <td>0.0</td>\n",
       "      <td>0.0</td>\n",
       "      <td>0.0</td>\n",
       "      <td>1.0</td>\n",
       "      <td>...</td>\n",
       "      <td>0.0</td>\n",
       "      <td>0.0</td>\n",
       "      <td>0.0</td>\n",
       "      <td>0.0</td>\n",
       "      <td>1.0</td>\n",
       "      <td>0.0</td>\n",
       "      <td>0.0</td>\n",
       "      <td>0.0</td>\n",
       "      <td>0.0</td>\n",
       "      <td>1.0</td>\n",
       "    </tr>\n",
       "    <tr>\n",
       "      <th>2</th>\n",
       "      <td>0.0</td>\n",
       "      <td>0.0</td>\n",
       "      <td>0.0</td>\n",
       "      <td>1.0</td>\n",
       "      <td>0.0</td>\n",
       "      <td>0.0</td>\n",
       "      <td>0.0</td>\n",
       "      <td>0.0</td>\n",
       "      <td>0.0</td>\n",
       "      <td>1.0</td>\n",
       "      <td>...</td>\n",
       "      <td>0.0</td>\n",
       "      <td>0.0</td>\n",
       "      <td>0.0</td>\n",
       "      <td>0.0</td>\n",
       "      <td>0.0</td>\n",
       "      <td>0.0</td>\n",
       "      <td>1.0</td>\n",
       "      <td>0.0</td>\n",
       "      <td>0.0</td>\n",
       "      <td>1.0</td>\n",
       "    </tr>\n",
       "    <tr>\n",
       "      <th>3</th>\n",
       "      <td>0.0</td>\n",
       "      <td>0.0</td>\n",
       "      <td>0.0</td>\n",
       "      <td>0.0</td>\n",
       "      <td>1.0</td>\n",
       "      <td>0.0</td>\n",
       "      <td>0.0</td>\n",
       "      <td>0.0</td>\n",
       "      <td>0.0</td>\n",
       "      <td>1.0</td>\n",
       "      <td>...</td>\n",
       "      <td>0.0</td>\n",
       "      <td>0.0</td>\n",
       "      <td>0.0</td>\n",
       "      <td>0.0</td>\n",
       "      <td>1.0</td>\n",
       "      <td>0.0</td>\n",
       "      <td>0.0</td>\n",
       "      <td>0.0</td>\n",
       "      <td>0.0</td>\n",
       "      <td>0.0</td>\n",
       "    </tr>\n",
       "    <tr>\n",
       "      <th>4</th>\n",
       "      <td>0.0</td>\n",
       "      <td>0.0</td>\n",
       "      <td>0.0</td>\n",
       "      <td>1.0</td>\n",
       "      <td>0.0</td>\n",
       "      <td>0.0</td>\n",
       "      <td>1.0</td>\n",
       "      <td>0.0</td>\n",
       "      <td>0.0</td>\n",
       "      <td>0.0</td>\n",
       "      <td>...</td>\n",
       "      <td>0.0</td>\n",
       "      <td>0.0</td>\n",
       "      <td>0.0</td>\n",
       "      <td>0.0</td>\n",
       "      <td>0.0</td>\n",
       "      <td>0.0</td>\n",
       "      <td>1.0</td>\n",
       "      <td>0.0</td>\n",
       "      <td>1.0</td>\n",
       "      <td>0.0</td>\n",
       "    </tr>\n",
       "  </tbody>\n",
       "</table>\n",
       "<p>5 rows × 26 columns</p>\n",
       "</div>"
      ],
      "text/plain": [
       "   SeniorCitizen_1  Partner_Yes  Dependents_Yes  PhoneService_Yes  \\\n",
       "0              0.0          1.0             0.0               0.0   \n",
       "1              0.0          0.0             0.0               1.0   \n",
       "2              0.0          0.0             0.0               1.0   \n",
       "3              0.0          0.0             0.0               0.0   \n",
       "4              0.0          0.0             0.0               1.0   \n",
       "\n",
       "   MultipleLines_No phone service  MultipleLines_Yes  \\\n",
       "0                             1.0                0.0   \n",
       "1                             0.0                0.0   \n",
       "2                             0.0                0.0   \n",
       "3                             1.0                0.0   \n",
       "4                             0.0                0.0   \n",
       "\n",
       "   InternetService_Fiber optic  InternetService_No  \\\n",
       "0                          0.0                 0.0   \n",
       "1                          0.0                 0.0   \n",
       "2                          0.0                 0.0   \n",
       "3                          0.0                 0.0   \n",
       "4                          1.0                 0.0   \n",
       "\n",
       "   OnlineSecurity_No internet service  OnlineSecurity_Yes  ...  \\\n",
       "0                                 0.0                 0.0  ...   \n",
       "1                                 0.0                 1.0  ...   \n",
       "2                                 0.0                 1.0  ...   \n",
       "3                                 0.0                 1.0  ...   \n",
       "4                                 0.0                 0.0  ...   \n",
       "\n",
       "   StreamingTV_No internet service  StreamingTV_Yes  \\\n",
       "0                              0.0              0.0   \n",
       "1                              0.0              0.0   \n",
       "2                              0.0              0.0   \n",
       "3                              0.0              0.0   \n",
       "4                              0.0              0.0   \n",
       "\n",
       "   StreamingMovies_No internet service  StreamingMovies_Yes  \\\n",
       "0                                  0.0                  0.0   \n",
       "1                                  0.0                  0.0   \n",
       "2                                  0.0                  0.0   \n",
       "3                                  0.0                  0.0   \n",
       "4                                  0.0                  0.0   \n",
       "\n",
       "   Contract_One year  Contract_Two year  PaperlessBilling_Yes  \\\n",
       "0                0.0                0.0                   1.0   \n",
       "1                1.0                0.0                   0.0   \n",
       "2                0.0                0.0                   1.0   \n",
       "3                1.0                0.0                   0.0   \n",
       "4                0.0                0.0                   1.0   \n",
       "\n",
       "   PaymentMethod_Credit card (automatic)  PaymentMethod_Electronic check  \\\n",
       "0                                    0.0                             1.0   \n",
       "1                                    0.0                             0.0   \n",
       "2                                    0.0                             0.0   \n",
       "3                                    0.0                             0.0   \n",
       "4                                    0.0                             1.0   \n",
       "\n",
       "   PaymentMethod_Mailed check  \n",
       "0                         0.0  \n",
       "1                         1.0  \n",
       "2                         1.0  \n",
       "3                         0.0  \n",
       "4                         0.0  \n",
       "\n",
       "[5 rows x 26 columns]"
      ]
     },
     "execution_count": 81,
     "metadata": {},
     "output_type": "execute_result"
    }
   ],
   "source": [
    "data_encoded.head()"
   ]
  },
  {
   "cell_type": "code",
   "execution_count": 83,
   "id": "7771d7c4-ac64-4694-94ea-b59255828a51",
   "metadata": {},
   "outputs": [],
   "source": [
    "data_encoded = pd.concat([data[selected_numerical], data_encoded], axis =1)"
   ]
  },
  {
   "cell_type": "code",
   "execution_count": 85,
   "id": "0298b56c-49c4-47c3-bf92-11aafc01c163",
   "metadata": {},
   "outputs": [
    {
     "data": {
      "text/html": [
       "<div>\n",
       "<style scoped>\n",
       "    .dataframe tbody tr th:only-of-type {\n",
       "        vertical-align: middle;\n",
       "    }\n",
       "\n",
       "    .dataframe tbody tr th {\n",
       "        vertical-align: top;\n",
       "    }\n",
       "\n",
       "    .dataframe thead th {\n",
       "        text-align: right;\n",
       "    }\n",
       "</style>\n",
       "<table border=\"1\" class=\"dataframe\">\n",
       "  <thead>\n",
       "    <tr style=\"text-align: right;\">\n",
       "      <th></th>\n",
       "      <th>tenure</th>\n",
       "      <th>MonthlyCharges</th>\n",
       "      <th>SeniorCitizen_1</th>\n",
       "      <th>Partner_Yes</th>\n",
       "      <th>Dependents_Yes</th>\n",
       "      <th>PhoneService_Yes</th>\n",
       "      <th>MultipleLines_No phone service</th>\n",
       "      <th>MultipleLines_Yes</th>\n",
       "      <th>InternetService_Fiber optic</th>\n",
       "      <th>InternetService_No</th>\n",
       "      <th>...</th>\n",
       "      <th>StreamingTV_No internet service</th>\n",
       "      <th>StreamingTV_Yes</th>\n",
       "      <th>StreamingMovies_No internet service</th>\n",
       "      <th>StreamingMovies_Yes</th>\n",
       "      <th>Contract_One year</th>\n",
       "      <th>Contract_Two year</th>\n",
       "      <th>PaperlessBilling_Yes</th>\n",
       "      <th>PaymentMethod_Credit card (automatic)</th>\n",
       "      <th>PaymentMethod_Electronic check</th>\n",
       "      <th>PaymentMethod_Mailed check</th>\n",
       "    </tr>\n",
       "  </thead>\n",
       "  <tbody>\n",
       "    <tr>\n",
       "      <th>0</th>\n",
       "      <td>1</td>\n",
       "      <td>29.85</td>\n",
       "      <td>0.0</td>\n",
       "      <td>1.0</td>\n",
       "      <td>0.0</td>\n",
       "      <td>0.0</td>\n",
       "      <td>1.0</td>\n",
       "      <td>0.0</td>\n",
       "      <td>0.0</td>\n",
       "      <td>0.0</td>\n",
       "      <td>...</td>\n",
       "      <td>0.0</td>\n",
       "      <td>0.0</td>\n",
       "      <td>0.0</td>\n",
       "      <td>0.0</td>\n",
       "      <td>0.0</td>\n",
       "      <td>0.0</td>\n",
       "      <td>1.0</td>\n",
       "      <td>0.0</td>\n",
       "      <td>1.0</td>\n",
       "      <td>0.0</td>\n",
       "    </tr>\n",
       "    <tr>\n",
       "      <th>1</th>\n",
       "      <td>34</td>\n",
       "      <td>56.95</td>\n",
       "      <td>0.0</td>\n",
       "      <td>0.0</td>\n",
       "      <td>0.0</td>\n",
       "      <td>1.0</td>\n",
       "      <td>0.0</td>\n",
       "      <td>0.0</td>\n",
       "      <td>0.0</td>\n",
       "      <td>0.0</td>\n",
       "      <td>...</td>\n",
       "      <td>0.0</td>\n",
       "      <td>0.0</td>\n",
       "      <td>0.0</td>\n",
       "      <td>0.0</td>\n",
       "      <td>1.0</td>\n",
       "      <td>0.0</td>\n",
       "      <td>0.0</td>\n",
       "      <td>0.0</td>\n",
       "      <td>0.0</td>\n",
       "      <td>1.0</td>\n",
       "    </tr>\n",
       "    <tr>\n",
       "      <th>2</th>\n",
       "      <td>2</td>\n",
       "      <td>53.85</td>\n",
       "      <td>0.0</td>\n",
       "      <td>0.0</td>\n",
       "      <td>0.0</td>\n",
       "      <td>1.0</td>\n",
       "      <td>0.0</td>\n",
       "      <td>0.0</td>\n",
       "      <td>0.0</td>\n",
       "      <td>0.0</td>\n",
       "      <td>...</td>\n",
       "      <td>0.0</td>\n",
       "      <td>0.0</td>\n",
       "      <td>0.0</td>\n",
       "      <td>0.0</td>\n",
       "      <td>0.0</td>\n",
       "      <td>0.0</td>\n",
       "      <td>1.0</td>\n",
       "      <td>0.0</td>\n",
       "      <td>0.0</td>\n",
       "      <td>1.0</td>\n",
       "    </tr>\n",
       "    <tr>\n",
       "      <th>3</th>\n",
       "      <td>45</td>\n",
       "      <td>42.30</td>\n",
       "      <td>0.0</td>\n",
       "      <td>0.0</td>\n",
       "      <td>0.0</td>\n",
       "      <td>0.0</td>\n",
       "      <td>1.0</td>\n",
       "      <td>0.0</td>\n",
       "      <td>0.0</td>\n",
       "      <td>0.0</td>\n",
       "      <td>...</td>\n",
       "      <td>0.0</td>\n",
       "      <td>0.0</td>\n",
       "      <td>0.0</td>\n",
       "      <td>0.0</td>\n",
       "      <td>1.0</td>\n",
       "      <td>0.0</td>\n",
       "      <td>0.0</td>\n",
       "      <td>0.0</td>\n",
       "      <td>0.0</td>\n",
       "      <td>0.0</td>\n",
       "    </tr>\n",
       "    <tr>\n",
       "      <th>4</th>\n",
       "      <td>2</td>\n",
       "      <td>70.70</td>\n",
       "      <td>0.0</td>\n",
       "      <td>0.0</td>\n",
       "      <td>0.0</td>\n",
       "      <td>1.0</td>\n",
       "      <td>0.0</td>\n",
       "      <td>0.0</td>\n",
       "      <td>1.0</td>\n",
       "      <td>0.0</td>\n",
       "      <td>...</td>\n",
       "      <td>0.0</td>\n",
       "      <td>0.0</td>\n",
       "      <td>0.0</td>\n",
       "      <td>0.0</td>\n",
       "      <td>0.0</td>\n",
       "      <td>0.0</td>\n",
       "      <td>1.0</td>\n",
       "      <td>0.0</td>\n",
       "      <td>1.0</td>\n",
       "      <td>0.0</td>\n",
       "    </tr>\n",
       "  </tbody>\n",
       "</table>\n",
       "<p>5 rows × 28 columns</p>\n",
       "</div>"
      ],
      "text/plain": [
       "   tenure  MonthlyCharges  SeniorCitizen_1  Partner_Yes  Dependents_Yes  \\\n",
       "0       1           29.85              0.0          1.0             0.0   \n",
       "1      34           56.95              0.0          0.0             0.0   \n",
       "2       2           53.85              0.0          0.0             0.0   \n",
       "3      45           42.30              0.0          0.0             0.0   \n",
       "4       2           70.70              0.0          0.0             0.0   \n",
       "\n",
       "   PhoneService_Yes  MultipleLines_No phone service  MultipleLines_Yes  \\\n",
       "0               0.0                             1.0                0.0   \n",
       "1               1.0                             0.0                0.0   \n",
       "2               1.0                             0.0                0.0   \n",
       "3               0.0                             1.0                0.0   \n",
       "4               1.0                             0.0                0.0   \n",
       "\n",
       "   InternetService_Fiber optic  InternetService_No  ...  \\\n",
       "0                          0.0                 0.0  ...   \n",
       "1                          0.0                 0.0  ...   \n",
       "2                          0.0                 0.0  ...   \n",
       "3                          0.0                 0.0  ...   \n",
       "4                          1.0                 0.0  ...   \n",
       "\n",
       "   StreamingTV_No internet service  StreamingTV_Yes  \\\n",
       "0                              0.0              0.0   \n",
       "1                              0.0              0.0   \n",
       "2                              0.0              0.0   \n",
       "3                              0.0              0.0   \n",
       "4                              0.0              0.0   \n",
       "\n",
       "   StreamingMovies_No internet service  StreamingMovies_Yes  \\\n",
       "0                                  0.0                  0.0   \n",
       "1                                  0.0                  0.0   \n",
       "2                                  0.0                  0.0   \n",
       "3                                  0.0                  0.0   \n",
       "4                                  0.0                  0.0   \n",
       "\n",
       "   Contract_One year  Contract_Two year  PaperlessBilling_Yes  \\\n",
       "0                0.0                0.0                   1.0   \n",
       "1                1.0                0.0                   0.0   \n",
       "2                0.0                0.0                   1.0   \n",
       "3                1.0                0.0                   0.0   \n",
       "4                0.0                0.0                   1.0   \n",
       "\n",
       "   PaymentMethod_Credit card (automatic)  PaymentMethod_Electronic check  \\\n",
       "0                                    0.0                             1.0   \n",
       "1                                    0.0                             0.0   \n",
       "2                                    0.0                             0.0   \n",
       "3                                    0.0                             0.0   \n",
       "4                                    0.0                             1.0   \n",
       "\n",
       "   PaymentMethod_Mailed check  \n",
       "0                         0.0  \n",
       "1                         1.0  \n",
       "2                         1.0  \n",
       "3                         0.0  \n",
       "4                         0.0  \n",
       "\n",
       "[5 rows x 28 columns]"
      ]
     },
     "execution_count": 85,
     "metadata": {},
     "output_type": "execute_result"
    }
   ],
   "source": [
    "data_encoded.head()"
   ]
  },
  {
   "cell_type": "markdown",
   "id": "6308ab24-254d-4371-8fd8-11a7f6f9c499",
   "metadata": {},
   "source": [
    "### Numerical features processing\n",
    "Check distribution, identify outliers, normalization"
   ]
  },
  {
   "cell_type": "code",
   "execution_count": null,
   "id": "f751d3ee-ee84-485a-b3d3-23b2199453a1",
   "metadata": {},
   "outputs": [],
   "source": []
  },
  {
   "cell_type": "code",
   "execution_count": 89,
   "id": "ae25119e-7ec9-4110-bfde-42fef76679f4",
   "metadata": {},
   "outputs": [
    {
     "data": {
      "image/png": "[encoded data removed]",
      "text/plain": [
       "<Figure size 400x300 with 1 Axes>"
      ]
     },
     "metadata": {},
     "output_type": "display_data"
    }
   ],
   "source": [
    "plt.figure(figsize=(4,3))\n",
    "cc = plt.hist(data_encoded['MonthlyCharges'], bins = 100)\n",
    "plt.grid()\n",
    "plt.xlabel('MonthlyCharges')\n",
    "plt.show()"
   ]
  },
  {
   "cell_type": "code",
   "execution_count": 91,
   "id": "0c557f25-769a-4535-ad7b-e1afe7a823f2",
   "metadata": {},
   "outputs": [
    {
     "data": {
      "image/png": "[encoded data removed]",
      "text/plain": [
       "<Figure size 400x300 with 1 Axes>"
      ]
     },
     "metadata": {},
     "output_type": "display_data"
    }
   ],
   "source": [
    "plt.figure(figsize=(4,3))\n",
    "cc = plt.hist(data_encoded['tenure'], bins = 100)\n",
    "plt.grid()\n",
    "plt.xlabel('Tenure')\n",
    "plt.show()"
   ]
  },
  {
   "cell_type": "code",
   "execution_count": 93,
   "id": "9c628047-a7f5-411d-94a6-e52efe217279",
   "metadata": {},
   "outputs": [],
   "source": [
    "#Check outliers\n",
    "p25, p75 = np.percentile(data_encoded['tenure'].values, (25, 75))"
   ]
  },
  {
   "cell_type": "code",
   "execution_count": 95,
   "id": "e8a07d47-ec53-4fc8-807a-fa5e036fc86a",
   "metadata": {},
   "outputs": [],
   "source": [
    "IQR = p75 - p25\n",
    "upper_fence = p75+1.5*IQR\n",
    "lower_fence = p25-1.5*IQR"
   ]
  },
  {
   "cell_type": "code",
   "execution_count": 97,
   "id": "ec11e419-5509-4001-a488-557ca6187cec",
   "metadata": {},
   "outputs": [
    {
     "data": {
      "text/plain": [
       "(124.0, -60.0)"
      ]
     },
     "execution_count": 97,
     "metadata": {},
     "output_type": "execute_result"
    }
   ],
   "source": [
    "upper_fence, lower_fence"
   ]
  },
  {
   "cell_type": "code",
   "execution_count": 99,
   "id": "6dcaf28b-51ea-4493-886d-c4c689467092",
   "metadata": {},
   "outputs": [],
   "source": [
    "X_train, X_test, y_train, y_test = train_test_split(data_encoded, data['Target'].values, test_size = 0.3, shuffle=True, random_state=42 )"
   ]
  },
  {
   "cell_type": "code",
   "execution_count": 101,
   "id": "57aab436-d7b4-4d0f-bf8d-3004787b5457",
   "metadata": {},
   "outputs": [],
   "source": [
    "#Normalize the data\n",
    "#If the data has a long tail, convert to log, and then normalize\n",
    "#To avoid data being screwed by outliers, use RobustScaler\n",
    "#StandardScaler, removing the mean and scaling to unit variance"
   ]
  },
  {
   "cell_type": "code",
   "execution_count": 103,
   "id": "a996a3df-fc64-4d8f-8af9-09387f73982d",
   "metadata": {},
   "outputs": [],
   "source": [
    "scaler = StandardScaler()"
   ]
  },
  {
   "cell_type": "code",
   "execution_count": 105,
   "id": "24ba44fb-80d4-46f9-b7fe-d7f7775ac83c",
   "metadata": {},
   "outputs": [],
   "source": [
    "data_normalized = scaler.fit_transform(X_train[selected_numerical])"
   ]
  },
  {
   "cell_type": "code",
   "execution_count": 107,
   "id": "c3cc0f0c-d079-4316-a942-94536915957f",
   "metadata": {},
   "outputs": [],
   "source": [
    "X_train_normalized = X_train.copy()\n",
    "X_train_normalized['tenure'] = data_normalized[:,0]\n",
    "X_train_normalized['MonthlyCharges'] = data_normalized[:,1]"
   ]
  },
  {
   "cell_type": "code",
   "execution_count": 109,
   "id": "646a4432-9a22-4c98-99db-6908c28a82bd",
   "metadata": {},
   "outputs": [],
   "source": [
    "data_normalized_test = scaler.transform(X_test[selected_numerical])"
   ]
  },
  {
   "cell_type": "code",
   "execution_count": 111,
   "id": "2ecca815-77fe-46c3-a914-a77dbfdb1767",
   "metadata": {},
   "outputs": [],
   "source": [
    "X_test_normalized = X_test.copy()\n",
    "X_test_normalized['tenure'] = data_normalized_test[:,0]\n",
    "X_test_normalized['MonthlyCharges'] = data_normalized_test[:,1]"
   ]
  },
  {
   "cell_type": "code",
   "execution_count": null,
   "id": "81ee790f-95f7-4553-951e-426d9a4b1288",
   "metadata": {},
   "outputs": [],
   "source": []
  },
  {
   "cell_type": "markdown",
   "id": "5a8ba7a7-84fb-42e7-94bd-9138e1992c57",
   "metadata": {},
   "source": [
    "# 3 Select models\n",
    "\n",
    "Explain why select this model, pros and cons"
   ]
  },
  {
   "cell_type": "markdown",
   "id": "32ccfe12-2206-41ef-ba96-7df3ffe61189",
   "metadata": {},
   "source": [
    "# 4 Model training and testing"
   ]
  },
  {
   "cell_type": "markdown",
   "id": "eefe3d41-fe79-48e5-9318-ebd6eeb04132",
   "metadata": {},
   "source": [
    "## 4.1 Baseline"
   ]
  },
  {
   "cell_type": "code",
   "execution_count": 117,
   "id": "1864e180-7a01-48b5-a7a6-a06b4604cd59",
   "metadata": {},
   "outputs": [],
   "source": [
    "# Randomly results, or always give the majority calss"
   ]
  },
  {
   "cell_type": "code",
   "execution_count": 119,
   "id": "c766eb20-fb17-4cb8-bd4d-1b8075ecc0d6",
   "metadata": {},
   "outputs": [],
   "source": [
    "predict = np.zeros_like(y_test) #most clidents don't churn"
   ]
  },
  {
   "cell_type": "code",
   "execution_count": 121,
   "id": "bff460d9-d7cc-4460-bd09-8df299ef9cb3",
   "metadata": {},
   "outputs": [
    {
     "data": {
      "text/plain": [
       "0.7283483199242783"
      ]
     },
     "execution_count": 121,
     "metadata": {},
     "output_type": "execute_result"
    }
   ],
   "source": [
    "accuracy_score(y_test, predict)"
   ]
  },
  {
   "cell_type": "markdown",
   "id": "509ce339-452a-4b51-b4b2-db294830234c",
   "metadata": {},
   "source": [
    "## 4.2 Logistic regression"
   ]
  },
  {
   "cell_type": "code",
   "execution_count": 124,
   "id": "cbfcce18-92ac-43ee-8a84-626d0d3e94c2",
   "metadata": {},
   "outputs": [],
   "source": [
    "clf1 = LogisticRegression(C = 1.0, class_weight='balanced', random_state = 42)"
   ]
  },
  {
   "cell_type": "code",
   "execution_count": 126,
   "id": "01c92830-749e-446b-b22a-9d950b58a008",
   "metadata": {},
   "outputs": [
    {
     "data": {
      "text/html": [
       "<style>#sk-container-id-1 {color: black;background-color: white;}#sk-container-id-1 pre{padding: 0;}#sk-container-id-1 div.sk-toggleable {background-color: white;}#sk-container-id-1 label.sk-toggleable__label {cursor: pointer;display: block;width: 100%;margin-bottom: 0;padding: 0.3em;box-sizing: border-box;text-align: center;}#sk-container-id-1 label.sk-toggleable__label-arrow:before {content: \"▸\";float: left;margin-right: 0.25em;color: #696969;}#sk-container-id-1 label.sk-toggleable__label-arrow:hover:before {color: black;}#sk-container-id-1 div.sk-estimator:hover label.sk-toggleable__label-arrow:before {color: black;}#sk-container-id-1 div.sk-toggleable__content {max-height: 0;max-width: 0;overflow: hidden;text-align: left;background-color: #f0f8ff;}#sk-container-id-1 div.sk-toggleable__content pre {margin: 0.2em;color: black;border-radius: 0.25em;background-color: #f0f8ff;}#sk-container-id-1 input.sk-toggleable__control:checked~div.sk-toggleable__content {max-height: 200px;max-width: 100%;overflow: auto;}#sk-container-id-1 input.sk-toggleable__control:checked~label.sk-toggleable__label-arrow:before {content: \"▾\";}#sk-container-id-1 div.sk-estimator input.sk-toggleable__control:checked~label.sk-toggleable__label {background-color: #d4ebff;}#sk-container-id-1 div.sk-label input.sk-toggleable__control:checked~label.sk-toggleable__label {background-color: #d4ebff;}#sk-container-id-1 input.sk-hidden--visually {border: 0;clip: rect(1px 1px 1px 1px);clip: rect(1px, 1px, 1px, 1px);height: 1px;margin: -1px;overflow: hidden;padding: 0;position: absolute;width: 1px;}#sk-container-id-1 div.sk-estimator {font-family: monospace;background-color: #f0f8ff;border: 1px dotted black;border-radius: 0.25em;box-sizing: border-box;margin-bottom: 0.5em;}#sk-container-id-1 div.sk-estimator:hover {background-color: #d4ebff;}#sk-container-id-1 div.sk-parallel-item::after {content: \"\";width: 100%;border-bottom: 1px solid gray;flex-grow: 1;}#sk-container-id-1 div.sk-label:hover label.sk-toggleable__label {background-color: #d4ebff;}#sk-container-id-1 div.sk-serial::before {content: \"\";position: absolute;border-left: 1px solid gray;box-sizing: border-box;top: 0;bottom: 0;left: 50%;z-index: 0;}#sk-container-id-1 div.sk-serial {display: flex;flex-direction: column;align-items: center;background-color: white;padding-right: 0.2em;padding-left: 0.2em;position: relative;}#sk-container-id-1 div.sk-item {position: relative;z-index: 1;}#sk-container-id-1 div.sk-parallel {display: flex;align-items: stretch;justify-content: center;background-color: white;position: relative;}#sk-container-id-1 div.sk-item::before, #sk-container-id-1 div.sk-parallel-item::before {content: \"\";position: absolute;border-left: 1px solid gray;box-sizing: border-box;top: 0;bottom: 0;left: 50%;z-index: -1;}#sk-container-id-1 div.sk-parallel-item {display: flex;flex-direction: column;z-index: 1;position: relative;background-color: white;}#sk-container-id-1 div.sk-parallel-item:first-child::after {align-self: flex-end;width: 50%;}#sk-container-id-1 div.sk-parallel-item:last-child::after {align-self: flex-start;width: 50%;}#sk-container-id-1 div.sk-parallel-item:only-child::after {width: 0;}#sk-container-id-1 div.sk-dashed-wrapped {border: 1px dashed gray;margin: 0 0.4em 0.5em 0.4em;box-sizing: border-box;padding-bottom: 0.4em;background-color: white;}#sk-container-id-1 div.sk-label label {font-family: monospace;font-weight: bold;display: inline-block;line-height: 1.2em;}#sk-container-id-1 div.sk-label-container {text-align: center;}#sk-container-id-1 div.sk-container {/* jupyter's `normalize.less` sets `[hidden] { display: none; }` but bootstrap.min.css set `[hidden] { display: none !important; }` so we also need the `!important` here to be able to override the default hidden behavior on the sphinx rendered scikit-learn.org. See: https://github.com/scikit-learn/scikit-learn/issues/21755 */display: inline-block !important;position: relative;}#sk-container-id-1 div.sk-text-repr-fallback {display: none;}</style><div id=\"sk-container-id-1\" class=\"sk-top-container\"><div class=\"sk-text-repr-fallback\"><pre>LogisticRegression(class_weight=&#x27;balanced&#x27;, random_state=42)</pre><b>In a Jupyter environment, please rerun this cell to show the HTML representation or trust the notebook. <br />On GitHub, the HTML representation is unable to render, please try loading this page with nbviewer.org.</b></div><div class=\"sk-container\" hidden><div class=\"sk-item\"><div class=\"sk-estimator sk-toggleable\"><input class=\"sk-toggleable__control sk-hidden--visually\" id=\"sk-estimator-id-1\" type=\"checkbox\" checked><label for=\"sk-estimator-id-1\" class=\"sk-toggleable__label sk-toggleable__label-arrow\">LogisticRegression</label><div class=\"sk-toggleable__content\"><pre>LogisticRegression(class_weight=&#x27;balanced&#x27;, random_state=42)</pre></div></div></div></div></div>"
      ],
      "text/plain": [
       "LogisticRegression(class_weight='balanced', random_state=42)"
      ]
     },
     "execution_count": 126,
     "metadata": {},
     "output_type": "execute_result"
    }
   ],
   "source": [
    "clf1.fit(X_train_normalized.values, y_train)"
   ]
  },
  {
   "cell_type": "code",
   "execution_count": 128,
   "id": "9dfa7b26-2bdd-4c2f-a405-22fc27b6f111",
   "metadata": {},
   "outputs": [],
   "source": [
    "y_train_predict = clf1.predict(X_train_normalized.values)"
   ]
  },
  {
   "cell_type": "code",
   "execution_count": 130,
   "id": "f3b3f629-635e-4400-9dee-5696d19fc5ca",
   "metadata": {},
   "outputs": [
    {
     "name": "stdout",
     "output_type": "stream",
     "text": [
      "              precision    recall  f1-score   support\n",
      "\n",
      "           0       0.91      0.72      0.81      3635\n",
      "           1       0.51      0.79      0.62      1295\n",
      "\n",
      "    accuracy                           0.74      4930\n",
      "   macro avg       0.71      0.76      0.71      4930\n",
      "weighted avg       0.80      0.74      0.76      4930\n",
      "\n"
     ]
    }
   ],
   "source": [
    "print(classification_report(y_train, y_train_predict))"
   ]
  },
  {
   "cell_type": "code",
   "execution_count": 132,
   "id": "7002a60e-70a4-4619-9519-dda33a92b021",
   "metadata": {},
   "outputs": [
    {
     "data": {
      "text/plain": [
       "array([[2634, 1001],\n",
       "       [ 266, 1029]], dtype=int64)"
      ]
     },
     "execution_count": 132,
     "metadata": {},
     "output_type": "execute_result"
    }
   ],
   "source": [
    "confusion_matrix(y_train, y_train_predict)"
   ]
  },
  {
   "cell_type": "markdown",
   "id": "fd1a0c06-df99-4b19-b2af-b9904997aae6",
   "metadata": {},
   "source": [
    "### logistic regression Tune parameters"
   ]
  },
  {
   "cell_type": "code",
   "execution_count": 135,
   "id": "b0c5134c-43d7-4e94-8177-917708fec008",
   "metadata": {},
   "outputs": [],
   "source": [
    "model = LogisticRegression(class_weight = 'balanced')"
   ]
  },
  {
   "cell_type": "code",
   "execution_count": 137,
   "id": "6c110b37-0441-487e-a4c5-642b8f69741d",
   "metadata": {},
   "outputs": [],
   "source": [
    "cv = RepeatedStratifiedKFold(n_splits = 5, n_repeats= 10, random_state = 42)"
   ]
  },
  {
   "cell_type": "code",
   "execution_count": 139,
   "id": "f8755aad-fe71-4492-98f6-f4b8cd71940c",
   "metadata": {},
   "outputs": [],
   "source": [
    "# define search space\n",
    "space = dict()\n",
    "space['C'] = [0.1,0.3,0.5,0.7,1]"
   ]
  },
  {
   "cell_type": "code",
   "execution_count": 141,
   "id": "e56a4e86-ce1b-4c21-ba1f-e396122bc9b2",
   "metadata": {},
   "outputs": [],
   "source": [
    "search = GridSearchCV(model, space, scoring = 'f1', n_jobs=-1, cv = cv)"
   ]
  },
  {
   "cell_type": "code",
   "execution_count": 143,
   "id": "b82cfc83-5fea-4e4b-9ad7-d35dc732d32c",
   "metadata": {},
   "outputs": [],
   "source": [
    "result = search.fit(X_train_normalized.values, y_train)"
   ]
  },
  {
   "cell_type": "code",
   "execution_count": 144,
   "id": "c40a0784-6f32-4faf-863e-6ba2873bc1d0",
   "metadata": {},
   "outputs": [
    {
     "data": {
      "text/plain": [
       "{'mean_fit_time': array([0.01451962, 0.01825741, 0.0173493 , 0.03008224, 0.02260656]),\n",
       " 'std_fit_time': array([0.01073428, 0.01546636, 0.01291835, 0.03116438, 0.01860455]),\n",
       " 'mean_score_time': array([0.00074274, 0.00147245, 0.00090214, 0.00089711, 0.00095064]),\n",
       " 'std_score_time': array([0.00085249, 0.00594468, 0.00090158, 0.00085728, 0.00078334]),\n",
       " 'param_C': masked_array(data=[0.1, 0.3, 0.5, 0.7, 1],\n",
       "              mask=[False, False, False, False, False],\n",
       "        fill_value='?',\n",
       "             dtype=object),\n",
       " 'params': [{'C': 0.1}, {'C': 0.3}, {'C': 0.5}, {'C': 0.7}, {'C': 1}],\n",
       " 'split0_test_score': array([0.60471976, 0.60526316, 0.60410557, 0.60322108, 0.60410557]),\n",
       " 'split1_test_score': array([0.64110429, 0.64133739, 0.64036419, 0.63939394, 0.63650075]),\n",
       " 'split2_test_score': array([0.59459459, 0.59670165, 0.59670165, 0.59670165, 0.5975976 ]),\n",
       " 'split3_test_score': array([0.61933535, 0.61445783, 0.61746988, 0.61840121, 0.61840121]),\n",
       " 'split4_test_score': array([0.63190184, 0.63093415, 0.63093415, 0.62996942, 0.62996942]),\n",
       " 'split5_test_score': array([0.59692308, 0.60244648, 0.60152672, 0.60273973, 0.60273973]),\n",
       " 'split6_test_score': array([0.62349398, 0.62368816, 0.62275449, 0.62182362, 0.62089552]),\n",
       " 'split7_test_score': array([0.59752322, 0.59659969, 0.59442724, 0.59442724, 0.59752322]),\n",
       " 'split8_test_score': array([0.60790274, 0.61052632, 0.60960961, 0.61169415, 0.61169415]),\n",
       " 'split9_test_score': array([0.63690476, 0.63609467, 0.63703704, 0.63703704, 0.6351551 ]),\n",
       " 'split10_test_score': array([0.61828737, 0.61582734, 0.61582734, 0.61582734, 0.61516452]),\n",
       " 'split11_test_score': array([0.60410557, 0.60792952, 0.60499266, 0.60499266, 0.60382916]),\n",
       " 'split12_test_score': array([0.62182362, 0.61997019, 0.61812779, 0.62017804, 0.62017804]),\n",
       " 'split13_test_score': array([0.6125    , 0.60530421, 0.60625   , 0.60625   , 0.60530421]),\n",
       " 'split14_test_score': array([0.60759494, 0.60883281, 0.61320755, 0.61320755, 0.61320755]),\n",
       " 'split15_test_score': array([0.62243286, 0.61538462, 0.615625  , 0.6125    , 0.61345853]),\n",
       " 'split16_test_score': array([0.6122449 , 0.60755814, 0.6084425 , 0.60641399, 0.60641399]),\n",
       " 'split17_test_score': array([0.6102719 , 0.6075188 , 0.6036036 , 0.6036036 , 0.60269865]),\n",
       " 'split18_test_score': array([0.60882801, 0.61212121, 0.61305008, 0.61398176, 0.61398176]),\n",
       " 'split19_test_score': array([0.62481315, 0.63001486, 0.62721893, 0.62721893, 0.62721893]),\n",
       " 'split20_test_score': array([0.61443932, 0.61094225, 0.61094225, 0.61094225, 0.61094225]),\n",
       " 'split21_test_score': array([0.61205564, 0.60802469, 0.60615385, 0.60615385, 0.60522273]),\n",
       " 'split22_test_score': array([0.61654135, 0.61769115, 0.61954887, 0.61954887, 0.61954887]),\n",
       " 'split23_test_score': array([0.60119048, 0.60148148, 0.60237389, 0.60148148, 0.60059172]),\n",
       " 'split24_test_score': array([0.63357664, 0.62973761, 0.62882096, 0.62699565, 0.62699565]),\n",
       " 'split25_test_score': array([0.60150376, 0.59701493, 0.59821429, 0.59940653, 0.59851852]),\n",
       " 'split26_test_score': array([0.62295082, 0.62017804, 0.61925926, 0.62017804, 0.62017804]),\n",
       " 'split27_test_score': array([0.60725076, 0.60935143, 0.6075188 , 0.60660661, 0.6075188 ]),\n",
       " 'split28_test_score': array([0.61746988, 0.61469265, 0.61469265, 0.61469265, 0.61561562]),\n",
       " 'split29_test_score': array([0.62325581, 0.62249615, 0.62345679, 0.62345679, 0.62345679]),\n",
       " 'split30_test_score': array([0.64696734, 0.64615385, 0.64714946, 0.64714946, 0.64714946]),\n",
       " 'split31_test_score': array([0.62202381, 0.62333826, 0.62150221, 0.62058824, 0.61967695]),\n",
       " 'split32_test_score': array([0.63013699, 0.62349398, 0.62162162, 0.62162162, 0.62068966]),\n",
       " 'split33_test_score': array([0.6090776 , 0.60755814, 0.60755814, 0.6084425 , 0.60755814]),\n",
       " 'split34_test_score': array([0.57984496, 0.57805255, 0.57805255, 0.57716049, 0.57716049]),\n",
       " 'split35_test_score': array([0.63013699, 0.62709285, 0.62709285, 0.62709285, 0.62613982]),\n",
       " 'split36_test_score': array([0.58035714, 0.57824143, 0.57824143, 0.57824143, 0.57652303]),\n",
       " 'split37_test_score': array([0.62727273, 0.62443439, 0.62443439, 0.62556391, 0.62556391]),\n",
       " 'split38_test_score': array([0.6119403 , 0.60830861, 0.60946746, 0.60856721, 0.60856721]),\n",
       " 'split39_test_score': array([0.61094225, 0.61374046, 0.61585366, 0.61585366, 0.61491629]),\n",
       " 'split40_test_score': array([0.61275272, 0.61205564, 0.61230769, 0.61255743, 0.6116208 ]),\n",
       " 'split41_test_score': array([0.62848297, 0.63060278, 0.63076923, 0.63190184, 0.63093415]),\n",
       " 'split42_test_score': array([0.60410557, 0.60410557, 0.60233918, 0.60233918, 0.60437956]),\n",
       " 'split43_test_score': array([0.60119048, 0.60237389, 0.6035503 , 0.6035503 , 0.6035503 ]),\n",
       " 'split44_test_score': array([0.61398176, 0.62100457, 0.62006079, 0.62215478, 0.62215478]),\n",
       " 'split45_test_score': array([0.61911988, 0.61515152, 0.61236802, 0.61538462, 0.61538462]),\n",
       " 'split46_test_score': array([0.63333333, 0.63444109, 0.63268366, 0.63173653, 0.63079223]),\n",
       " 'split47_test_score': array([0.57467532, 0.57971014, 0.58199357, 0.57971014, 0.57971014]),\n",
       " 'split48_test_score': array([0.62626263, 0.62088698, 0.62      , 0.61911555, 0.61911555]),\n",
       " 'split49_test_score': array([0.60725076, 0.61144578, 0.61052632, 0.60960961, 0.60960961]),\n",
       " 'mean_test_score': array([0.61434792, 0.61364628, 0.6133966 , 0.61334774, 0.61311647]),\n",
       " 'std_test_score': array([0.01479538, 0.01427472, 0.01414424, 0.01424544, 0.01401487]),\n",
       " 'rank_test_score': array([1, 2, 3, 4, 5])}"
      ]
     },
     "execution_count": 144,
     "metadata": {},
     "output_type": "execute_result"
    }
   ],
   "source": [
    "result.cv_results_"
   ]
  },
  {
   "cell_type": "code",
   "execution_count": 145,
   "id": "a144125b-c272-4608-a41d-326a8f1e0a1e",
   "metadata": {},
   "outputs": [
    {
     "data": {
      "text/plain": [
       "0.614347918391214"
      ]
     },
     "execution_count": 145,
     "metadata": {},
     "output_type": "execute_result"
    }
   ],
   "source": [
    "result.best_score_"
   ]
  },
  {
   "cell_type": "code",
   "execution_count": 146,
   "id": "83f7bd48-2d03-443e-9d1a-ca5c8180c95b",
   "metadata": {},
   "outputs": [
    {
     "data": {
      "text/plain": [
       "{'C': 0.1}"
      ]
     },
     "execution_count": 146,
     "metadata": {},
     "output_type": "execute_result"
    }
   ],
   "source": [
    "result.best_params_"
   ]
  },
  {
   "cell_type": "code",
   "execution_count": 151,
   "id": "9eb1ccd3-4c48-4c96-9c64-c35adc5ea3da",
   "metadata": {},
   "outputs": [],
   "source": [
    "clf1 = LogisticRegression(C = 0.1, class_weight='balanced', random_state = 42)"
   ]
  },
  {
   "cell_type": "code",
   "execution_count": 153,
   "id": "3ceb2dcf-176f-43bf-9e31-3bc8c673efd4",
   "metadata": {},
   "outputs": [
    {
     "data": {
      "text/html": [
       "<style>#sk-container-id-2 {color: black;background-color: white;}#sk-container-id-2 pre{padding: 0;}#sk-container-id-2 div.sk-toggleable {background-color: white;}#sk-container-id-2 label.sk-toggleable__label {cursor: pointer;display: block;width: 100%;margin-bottom: 0;padding: 0.3em;box-sizing: border-box;text-align: center;}#sk-container-id-2 label.sk-toggleable__label-arrow:before {content: \"▸\";float: left;margin-right: 0.25em;color: #696969;}#sk-container-id-2 label.sk-toggleable__label-arrow:hover:before {color: black;}#sk-container-id-2 div.sk-estimator:hover label.sk-toggleable__label-arrow:before {color: black;}#sk-container-id-2 div.sk-toggleable__content {max-height: 0;max-width: 0;overflow: hidden;text-align: left;background-color: #f0f8ff;}#sk-container-id-2 div.sk-toggleable__content pre {margin: 0.2em;color: black;border-radius: 0.25em;background-color: #f0f8ff;}#sk-container-id-2 input.sk-toggleable__control:checked~div.sk-toggleable__content {max-height: 200px;max-width: 100%;overflow: auto;}#sk-container-id-2 input.sk-toggleable__control:checked~label.sk-toggleable__label-arrow:before {content: \"▾\";}#sk-container-id-2 div.sk-estimator input.sk-toggleable__control:checked~label.sk-toggleable__label {background-color: #d4ebff;}#sk-container-id-2 div.sk-label input.sk-toggleable__control:checked~label.sk-toggleable__label {background-color: #d4ebff;}#sk-container-id-2 input.sk-hidden--visually {border: 0;clip: rect(1px 1px 1px 1px);clip: rect(1px, 1px, 1px, 1px);height: 1px;margin: -1px;overflow: hidden;padding: 0;position: absolute;width: 1px;}#sk-container-id-2 div.sk-estimator {font-family: monospace;background-color: #f0f8ff;border: 1px dotted black;border-radius: 0.25em;box-sizing: border-box;margin-bottom: 0.5em;}#sk-container-id-2 div.sk-estimator:hover {background-color: #d4ebff;}#sk-container-id-2 div.sk-parallel-item::after {content: \"\";width: 100%;border-bottom: 1px solid gray;flex-grow: 1;}#sk-container-id-2 div.sk-label:hover label.sk-toggleable__label {background-color: #d4ebff;}#sk-container-id-2 div.sk-serial::before {content: \"\";position: absolute;border-left: 1px solid gray;box-sizing: border-box;top: 0;bottom: 0;left: 50%;z-index: 0;}#sk-container-id-2 div.sk-serial {display: flex;flex-direction: column;align-items: center;background-color: white;padding-right: 0.2em;padding-left: 0.2em;position: relative;}#sk-container-id-2 div.sk-item {position: relative;z-index: 1;}#sk-container-id-2 div.sk-parallel {display: flex;align-items: stretch;justify-content: center;background-color: white;position: relative;}#sk-container-id-2 div.sk-item::before, #sk-container-id-2 div.sk-parallel-item::before {content: \"\";position: absolute;border-left: 1px solid gray;box-sizing: border-box;top: 0;bottom: 0;left: 50%;z-index: -1;}#sk-container-id-2 div.sk-parallel-item {display: flex;flex-direction: column;z-index: 1;position: relative;background-color: white;}#sk-container-id-2 div.sk-parallel-item:first-child::after {align-self: flex-end;width: 50%;}#sk-container-id-2 div.sk-parallel-item:last-child::after {align-self: flex-start;width: 50%;}#sk-container-id-2 div.sk-parallel-item:only-child::after {width: 0;}#sk-container-id-2 div.sk-dashed-wrapped {border: 1px dashed gray;margin: 0 0.4em 0.5em 0.4em;box-sizing: border-box;padding-bottom: 0.4em;background-color: white;}#sk-container-id-2 div.sk-label label {font-family: monospace;font-weight: bold;display: inline-block;line-height: 1.2em;}#sk-container-id-2 div.sk-label-container {text-align: center;}#sk-container-id-2 div.sk-container {/* jupyter's `normalize.less` sets `[hidden] { display: none; }` but bootstrap.min.css set `[hidden] { display: none !important; }` so we also need the `!important` here to be able to override the default hidden behavior on the sphinx rendered scikit-learn.org. See: https://github.com/scikit-learn/scikit-learn/issues/21755 */display: inline-block !important;position: relative;}#sk-container-id-2 div.sk-text-repr-fallback {display: none;}</style><div id=\"sk-container-id-2\" class=\"sk-top-container\"><div class=\"sk-text-repr-fallback\"><pre>LogisticRegression(C=0.1, class_weight=&#x27;balanced&#x27;, random_state=42)</pre><b>In a Jupyter environment, please rerun this cell to show the HTML representation or trust the notebook. <br />On GitHub, the HTML representation is unable to render, please try loading this page with nbviewer.org.</b></div><div class=\"sk-container\" hidden><div class=\"sk-item\"><div class=\"sk-estimator sk-toggleable\"><input class=\"sk-toggleable__control sk-hidden--visually\" id=\"sk-estimator-id-2\" type=\"checkbox\" checked><label for=\"sk-estimator-id-2\" class=\"sk-toggleable__label sk-toggleable__label-arrow\">LogisticRegression</label><div class=\"sk-toggleable__content\"><pre>LogisticRegression(C=0.1, class_weight=&#x27;balanced&#x27;, random_state=42)</pre></div></div></div></div></div>"
      ],
      "text/plain": [
       "LogisticRegression(C=0.1, class_weight='balanced', random_state=42)"
      ]
     },
     "execution_count": 153,
     "metadata": {},
     "output_type": "execute_result"
    }
   ],
   "source": [
    "clf1.fit(X_train_normalized.values, y_train)"
   ]
  },
  {
   "cell_type": "code",
   "execution_count": 155,
   "id": "5d98281f-c0e6-4a92-a979-9d34a854ffcf",
   "metadata": {},
   "outputs": [],
   "source": [
    "y_train_predict = clf1.predict(X_train_normalized.values)"
   ]
  },
  {
   "cell_type": "code",
   "execution_count": 157,
   "id": "6a38b351-8c3b-4815-9207-fba3f48fd2d7",
   "metadata": {},
   "outputs": [
    {
     "name": "stdout",
     "output_type": "stream",
     "text": [
      "              precision    recall  f1-score   support\n",
      "\n",
      "           0       0.91      0.73      0.81      3635\n",
      "           1       0.51      0.79      0.62      1295\n",
      "\n",
      "    accuracy                           0.74      4930\n",
      "   macro avg       0.71      0.76      0.71      4930\n",
      "weighted avg       0.80      0.74      0.76      4930\n",
      "\n"
     ]
    }
   ],
   "source": [
    "print(classification_report(y_train, y_train_predict))"
   ]
  },
  {
   "cell_type": "code",
   "execution_count": 159,
   "id": "3d380d5a-35c2-4a77-bfa2-94d5f8b9106c",
   "metadata": {},
   "outputs": [],
   "source": [
    "y_test_predict = clf1.predict(X_test_normalized.values)"
   ]
  },
  {
   "cell_type": "code",
   "execution_count": 161,
   "id": "f96f1034-13aa-464f-a2fa-bd9e61279777",
   "metadata": {},
   "outputs": [
    {
     "name": "stdout",
     "output_type": "stream",
     "text": [
      "              precision    recall  f1-score   support\n",
      "\n",
      "           0       0.92      0.74      0.82      1539\n",
      "           1       0.54      0.82      0.65       574\n",
      "\n",
      "    accuracy                           0.76      2113\n",
      "   macro avg       0.73      0.78      0.73      2113\n",
      "weighted avg       0.81      0.76      0.77      2113\n",
      "\n"
     ]
    }
   ],
   "source": [
    "print(classification_report(y_test, y_test_predict))"
   ]
  },
  {
   "cell_type": "markdown",
   "id": "402a5bcc-74da-4629-b415-699017335b08",
   "metadata": {},
   "source": [
    "## 4.3 xgboost"
   ]
  },
  {
   "cell_type": "code",
   "execution_count": 164,
   "id": "0e2b26be-5d05-4493-a65d-b07e8024961f",
   "metadata": {},
   "outputs": [
    {
     "data": {
      "text/plain": [
       "2.7683253076511503"
      ]
     },
     "execution_count": 164,
     "metadata": {},
     "output_type": "execute_result"
    }
   ],
   "source": [
    "(len(data) - data['Target'].sum())/data['Target'].sum()"
   ]
  },
  {
   "cell_type": "code",
   "execution_count": 166,
   "id": "a3043b51-8fa7-41b1-a208-1147664c2f4b",
   "metadata": {},
   "outputs": [],
   "source": [
    "clf_xgb = xgb.XGBClassifier(n_estimators=50, max_depth = 7, scale_pos_weight = 2.8)"
   ]
  },
  {
   "cell_type": "code",
   "execution_count": 168,
   "id": "e6081997-89c9-4928-bd11-b7b35303381d",
   "metadata": {},
   "outputs": [
    {
     "data": {
      "text/html": [
       "<style>#sk-container-id-3 {color: black;background-color: white;}#sk-container-id-3 pre{padding: 0;}#sk-container-id-3 div.sk-toggleable {background-color: white;}#sk-container-id-3 label.sk-toggleable__label {cursor: pointer;display: block;width: 100%;margin-bottom: 0;padding: 0.3em;box-sizing: border-box;text-align: center;}#sk-container-id-3 label.sk-toggleable__label-arrow:before {content: \"▸\";float: left;margin-right: 0.25em;color: #696969;}#sk-container-id-3 label.sk-toggleable__label-arrow:hover:before {color: black;}#sk-container-id-3 div.sk-estimator:hover label.sk-toggleable__label-arrow:before {color: black;}#sk-container-id-3 div.sk-toggleable__content {max-height: 0;max-width: 0;overflow: hidden;text-align: left;background-color: #f0f8ff;}#sk-container-id-3 div.sk-toggleable__content pre {margin: 0.2em;color: black;border-radius: 0.25em;background-color: #f0f8ff;}#sk-container-id-3 input.sk-toggleable__control:checked~div.sk-toggleable__content {max-height: 200px;max-width: 100%;overflow: auto;}#sk-container-id-3 input.sk-toggleable__control:checked~label.sk-toggleable__label-arrow:before {content: \"▾\";}#sk-container-id-3 div.sk-estimator input.sk-toggleable__control:checked~label.sk-toggleable__label {background-color: #d4ebff;}#sk-container-id-3 div.sk-label input.sk-toggleable__control:checked~label.sk-toggleable__label {background-color: #d4ebff;}#sk-container-id-3 input.sk-hidden--visually {border: 0;clip: rect(1px 1px 1px 1px);clip: rect(1px, 1px, 1px, 1px);height: 1px;margin: -1px;overflow: hidden;padding: 0;position: absolute;width: 1px;}#sk-container-id-3 div.sk-estimator {font-family: monospace;background-color: #f0f8ff;border: 1px dotted black;border-radius: 0.25em;box-sizing: border-box;margin-bottom: 0.5em;}#sk-container-id-3 div.sk-estimator:hover {background-color: #d4ebff;}#sk-container-id-3 div.sk-parallel-item::after {content: \"\";width: 100%;border-bottom: 1px solid gray;flex-grow: 1;}#sk-container-id-3 div.sk-label:hover label.sk-toggleable__label {background-color: #d4ebff;}#sk-container-id-3 div.sk-serial::before {content: \"\";position: absolute;border-left: 1px solid gray;box-sizing: border-box;top: 0;bottom: 0;left: 50%;z-index: 0;}#sk-container-id-3 div.sk-serial {display: flex;flex-direction: column;align-items: center;background-color: white;padding-right: 0.2em;padding-left: 0.2em;position: relative;}#sk-container-id-3 div.sk-item {position: relative;z-index: 1;}#sk-container-id-3 div.sk-parallel {display: flex;align-items: stretch;justify-content: center;background-color: white;position: relative;}#sk-container-id-3 div.sk-item::before, #sk-container-id-3 div.sk-parallel-item::before {content: \"\";position: absolute;border-left: 1px solid gray;box-sizing: border-box;top: 0;bottom: 0;left: 50%;z-index: -1;}#sk-container-id-3 div.sk-parallel-item {display: flex;flex-direction: column;z-index: 1;position: relative;background-color: white;}#sk-container-id-3 div.sk-parallel-item:first-child::after {align-self: flex-end;width: 50%;}#sk-container-id-3 div.sk-parallel-item:last-child::after {align-self: flex-start;width: 50%;}#sk-container-id-3 div.sk-parallel-item:only-child::after {width: 0;}#sk-container-id-3 div.sk-dashed-wrapped {border: 1px dashed gray;margin: 0 0.4em 0.5em 0.4em;box-sizing: border-box;padding-bottom: 0.4em;background-color: white;}#sk-container-id-3 div.sk-label label {font-family: monospace;font-weight: bold;display: inline-block;line-height: 1.2em;}#sk-container-id-3 div.sk-label-container {text-align: center;}#sk-container-id-3 div.sk-container {/* jupyter's `normalize.less` sets `[hidden] { display: none; }` but bootstrap.min.css set `[hidden] { display: none !important; }` so we also need the `!important` here to be able to override the default hidden behavior on the sphinx rendered scikit-learn.org. See: https://github.com/scikit-learn/scikit-learn/issues/21755 */display: inline-block !important;position: relative;}#sk-container-id-3 div.sk-text-repr-fallback {display: none;}</style><div id=\"sk-container-id-3\" class=\"sk-top-container\"><div class=\"sk-text-repr-fallback\"><pre>XGBClassifier(base_score=None, booster=None, callbacks=None,\n",
       "              colsample_bylevel=None, colsample_bynode=None,\n",
       "              colsample_bytree=None, device=None, early_stopping_rounds=None,\n",
       "              enable_categorical=False, eval_metric=None, feature_types=None,\n",
       "              gamma=None, grow_policy=None, importance_type=None,\n",
       "              interaction_constraints=None, learning_rate=None, max_bin=None,\n",
       "              max_cat_threshold=None, max_cat_to_onehot=None,\n",
       "              max_delta_step=None, max_depth=7, max_leaves=None,\n",
       "              min_child_weight=None, missing=nan, monotone_constraints=None,\n",
       "              multi_strategy=None, n_estimators=50, n_jobs=None,\n",
       "              num_parallel_tree=None, random_state=None, ...)</pre><b>In a Jupyter environment, please rerun this cell to show the HTML representation or trust the notebook. <br />On GitHub, the HTML representation is unable to render, please try loading this page with nbviewer.org.</b></div><div class=\"sk-container\" hidden><div class=\"sk-item\"><div class=\"sk-estimator sk-toggleable\"><input class=\"sk-toggleable__control sk-hidden--visually\" id=\"sk-estimator-id-3\" type=\"checkbox\" checked><label for=\"sk-estimator-id-3\" class=\"sk-toggleable__label sk-toggleable__label-arrow\">XGBClassifier</label><div class=\"sk-toggleable__content\"><pre>XGBClassifier(base_score=None, booster=None, callbacks=None,\n",
       "              colsample_bylevel=None, colsample_bynode=None,\n",
       "              colsample_bytree=None, device=None, early_stopping_rounds=None,\n",
       "              enable_categorical=False, eval_metric=None, feature_types=None,\n",
       "              gamma=None, grow_policy=None, importance_type=None,\n",
       "              interaction_constraints=None, learning_rate=None, max_bin=None,\n",
       "              max_cat_threshold=None, max_cat_to_onehot=None,\n",
       "              max_delta_step=None, max_depth=7, max_leaves=None,\n",
       "              min_child_weight=None, missing=nan, monotone_constraints=None,\n",
       "              multi_strategy=None, n_estimators=50, n_jobs=None,\n",
       "              num_parallel_tree=None, random_state=None, ...)</pre></div></div></div></div></div>"
      ],
      "text/plain": [
       "XGBClassifier(base_score=None, booster=None, callbacks=None,\n",
       "              colsample_bylevel=None, colsample_bynode=None,\n",
       "              colsample_bytree=None, device=None, early_stopping_rounds=None,\n",
       "              enable_categorical=False, eval_metric=None, feature_types=None,\n",
       "              gamma=None, grow_policy=None, importance_type=None,\n",
       "              interaction_constraints=None, learning_rate=None, max_bin=None,\n",
       "              max_cat_threshold=None, max_cat_to_onehot=None,\n",
       "              max_delta_step=None, max_depth=7, max_leaves=None,\n",
       "              min_child_weight=None, missing=nan, monotone_constraints=None,\n",
       "              multi_strategy=None, n_estimators=50, n_jobs=None,\n",
       "              num_parallel_tree=None, random_state=None, ...)"
      ]
     },
     "execution_count": 168,
     "metadata": {},
     "output_type": "execute_result"
    }
   ],
   "source": [
    "clf_xgb.fit(X_train_normalized.values, y_train)"
   ]
  },
  {
   "cell_type": "code",
   "execution_count": 170,
   "id": "e98bb636-5f03-447d-87a9-7569e123ffe5",
   "metadata": {},
   "outputs": [],
   "source": [
    "y_train_pred = clf_xgb.predict(X_train_normalized)"
   ]
  },
  {
   "cell_type": "code",
   "execution_count": 172,
   "id": "d8c55d73-ca19-4943-ba28-11d6cdc24eb6",
   "metadata": {},
   "outputs": [],
   "source": [
    "y_train_pred_score = clf_xgb.predict_proba(X_train_normalized)"
   ]
  },
  {
   "cell_type": "code",
   "execution_count": 174,
   "id": "d4ff8c18-c4fd-40cd-b729-f83d30d7fd33",
   "metadata": {},
   "outputs": [
    {
     "data": {
      "text/plain": [
       "array([[0.9809517 , 0.01904828],\n",
       "       [0.11333144, 0.88666856],\n",
       "       [0.99610007, 0.00389994],\n",
       "       ...,\n",
       "       [0.7196251 , 0.28037485],\n",
       "       [0.0242064 , 0.9757936 ],\n",
       "       [0.98076737, 0.0192326 ]], dtype=float32)"
      ]
     },
     "execution_count": 174,
     "metadata": {},
     "output_type": "execute_result"
    }
   ],
   "source": [
    "y_train_pred_score"
   ]
  },
  {
   "cell_type": "code",
   "execution_count": 176,
   "id": "1e5aa1c6-ffd5-4c89-8ac6-d8b11e57208e",
   "metadata": {},
   "outputs": [
    {
     "name": "stdout",
     "output_type": "stream",
     "text": [
      "              precision    recall  f1-score   support\n",
      "\n",
      "           0       0.99      0.88      0.93      3635\n",
      "           1       0.74      0.98      0.84      1295\n",
      "\n",
      "    accuracy                           0.90      4930\n",
      "   macro avg       0.87      0.93      0.89      4930\n",
      "weighted avg       0.93      0.90      0.91      4930\n",
      "\n"
     ]
    }
   ],
   "source": [
    "print(classification_report(y_train, y_train_pred))"
   ]
  },
  {
   "cell_type": "code",
   "execution_count": 178,
   "id": "b26bf891-1ff0-477b-8794-a920ebc63b30",
   "metadata": {},
   "outputs": [],
   "source": [
    "cm = confusion_matrix(y_train, y_train_pred)"
   ]
  },
  {
   "cell_type": "code",
   "execution_count": 180,
   "id": "e68b3f0e-698b-4239-be76-3c61edc97181",
   "metadata": {},
   "outputs": [],
   "source": [
    "disp = ConfusionMatrixDisplay(confusion_matrix=cm,\n",
    "                              display_labels=clf_xgb.classes_)"
   ]
  },
  {
   "cell_type": "code",
   "execution_count": 182,
   "id": "2191d904-4b0f-41cb-9f24-2c9845e14a3d",
   "metadata": {},
   "outputs": [
    {
     "data": {
      "image/png": "[encoded data removed]",
      "text/plain": [
       "<Figure size 640x480 with 2 Axes>"
      ]
     },
     "metadata": {},
     "output_type": "display_data"
    }
   ],
   "source": [
    "disp.plot()\n",
    "plt.show()"
   ]
  },
  {
   "cell_type": "markdown",
   "id": "ddcb0031-bdbf-4bb3-ab3f-6667aff7c57a",
   "metadata": {},
   "source": [
    "### xgboost--Tune parameters"
   ]
  },
  {
   "cell_type": "code",
   "execution_count": 185,
   "id": "d637c0fa-c1d5-40bb-b520-49c55d885c94",
   "metadata": {},
   "outputs": [],
   "source": [
    "model = xgb.XGBClassifier()"
   ]
  },
  {
   "cell_type": "code",
   "execution_count": 187,
   "id": "73795d9c-7e1c-4170-ab4d-653105f76c6f",
   "metadata": {},
   "outputs": [],
   "source": [
    "#define search space\n",
    "space = dict()\n",
    "space['n_estimators'] = [10, 20, 30, 50, 100]\n",
    "space['max_depth'] = [3,5,7]\n",
    "space['scale_pos_weight'] = [1.0, 1.5, 2, 2.8]"
   ]
  },
  {
   "cell_type": "code",
   "execution_count": 189,
   "id": "938196cf-78cb-4482-9b61-68c07e919ee0",
   "metadata": {},
   "outputs": [],
   "source": [
    "cv = RepeatedStratifiedKFold(n_splits = 10, n_repeats=10, random_state = 42,)"
   ]
  },
  {
   "cell_type": "code",
   "execution_count": 199,
   "id": "847757da-00fd-418f-a677-efc2fbb025cb",
   "metadata": {},
   "outputs": [],
   "source": [
    "search = GridSearchCV(model, space, scoring = 'f1', cv = cv, n_jobs=8, verbose = 2)"
   ]
  },
  {
   "cell_type": "code",
   "execution_count": 204,
   "id": "86835069-3917-4503-9363-ec04460fd8ff",
   "metadata": {},
   "outputs": [
    {
     "name": "stdout",
     "output_type": "stream",
     "text": [
      "Fitting 100 folds for each of 60 candidates, totalling 6000 fits\n"
     ]
    }
   ],
   "source": [
    "results = search.fit(X_train_normalized.values, y_train)"
   ]
  },
  {
   "cell_type": "code",
   "execution_count": 206,
   "id": "a28e0790-bfa4-4456-bd9c-1e5cd7848184",
   "metadata": {},
   "outputs": [
    {
     "data": {
      "text/plain": [
       "0.6224550846419963"
      ]
     },
     "execution_count": 206,
     "metadata": {},
     "output_type": "execute_result"
    }
   ],
   "source": [
    "results.best_score_"
   ]
  },
  {
   "cell_type": "code",
   "execution_count": 210,
   "id": "395c06d8-0f23-4b6e-8d8e-2b6e856eb6f4",
   "metadata": {},
   "outputs": [
    {
     "data": {
      "text/plain": [
       "{'max_depth': 3, 'n_estimators': 10, 'scale_pos_weight': 2}"
      ]
     },
     "execution_count": 210,
     "metadata": {},
     "output_type": "execute_result"
    }
   ],
   "source": [
    "results.best_params_"
   ]
  },
  {
   "cell_type": "code",
   "execution_count": 216,
   "id": "6cb96164-d4c5-4009-9837-99ea01bf5ea8",
   "metadata": {},
   "outputs": [],
   "source": [
    "#Train with the best parameter set\n",
    "model = xgb.XGBClassifier(n_estimators = 10, max_depth = 3, scale_pos_weight = 2)"
   ]
  },
  {
   "cell_type": "code",
   "execution_count": 218,
   "id": "e6267224-d007-4440-a0f9-d93091de0270",
   "metadata": {},
   "outputs": [
    {
     "data": {
      "text/html": [
       "<style>#sk-container-id-8 {color: black;background-color: white;}#sk-container-id-8 pre{padding: 0;}#sk-container-id-8 div.sk-toggleable {background-color: white;}#sk-container-id-8 label.sk-toggleable__label {cursor: pointer;display: block;width: 100%;margin-bottom: 0;padding: 0.3em;box-sizing: border-box;text-align: center;}#sk-container-id-8 label.sk-toggleable__label-arrow:before {content: \"▸\";float: left;margin-right: 0.25em;color: #696969;}#sk-container-id-8 label.sk-toggleable__label-arrow:hover:before {color: black;}#sk-container-id-8 div.sk-estimator:hover label.sk-toggleable__label-arrow:before {color: black;}#sk-container-id-8 div.sk-toggleable__content {max-height: 0;max-width: 0;overflow: hidden;text-align: left;background-color: #f0f8ff;}#sk-container-id-8 div.sk-toggleable__content pre {margin: 0.2em;color: black;border-radius: 0.25em;background-color: #f0f8ff;}#sk-container-id-8 input.sk-toggleable__control:checked~div.sk-toggleable__content {max-height: 200px;max-width: 100%;overflow: auto;}#sk-container-id-8 input.sk-toggleable__control:checked~label.sk-toggleable__label-arrow:before {content: \"▾\";}#sk-container-id-8 div.sk-estimator input.sk-toggleable__control:checked~label.sk-toggleable__label {background-color: #d4ebff;}#sk-container-id-8 div.sk-label input.sk-toggleable__control:checked~label.sk-toggleable__label {background-color: #d4ebff;}#sk-container-id-8 input.sk-hidden--visually {border: 0;clip: rect(1px 1px 1px 1px);clip: rect(1px, 1px, 1px, 1px);height: 1px;margin: -1px;overflow: hidden;padding: 0;position: absolute;width: 1px;}#sk-container-id-8 div.sk-estimator {font-family: monospace;background-color: #f0f8ff;border: 1px dotted black;border-radius: 0.25em;box-sizing: border-box;margin-bottom: 0.5em;}#sk-container-id-8 div.sk-estimator:hover {background-color: #d4ebff;}#sk-container-id-8 div.sk-parallel-item::after {content: \"\";width: 100%;border-bottom: 1px solid gray;flex-grow: 1;}#sk-container-id-8 div.sk-label:hover label.sk-toggleable__label {background-color: #d4ebff;}#sk-container-id-8 div.sk-serial::before {content: \"\";position: absolute;border-left: 1px solid gray;box-sizing: border-box;top: 0;bottom: 0;left: 50%;z-index: 0;}#sk-container-id-8 div.sk-serial {display: flex;flex-direction: column;align-items: center;background-color: white;padding-right: 0.2em;padding-left: 0.2em;position: relative;}#sk-container-id-8 div.sk-item {position: relative;z-index: 1;}#sk-container-id-8 div.sk-parallel {display: flex;align-items: stretch;justify-content: center;background-color: white;position: relative;}#sk-container-id-8 div.sk-item::before, #sk-container-id-8 div.sk-parallel-item::before {content: \"\";position: absolute;border-left: 1px solid gray;box-sizing: border-box;top: 0;bottom: 0;left: 50%;z-index: -1;}#sk-container-id-8 div.sk-parallel-item {display: flex;flex-direction: column;z-index: 1;position: relative;background-color: white;}#sk-container-id-8 div.sk-parallel-item:first-child::after {align-self: flex-end;width: 50%;}#sk-container-id-8 div.sk-parallel-item:last-child::after {align-self: flex-start;width: 50%;}#sk-container-id-8 div.sk-parallel-item:only-child::after {width: 0;}#sk-container-id-8 div.sk-dashed-wrapped {border: 1px dashed gray;margin: 0 0.4em 0.5em 0.4em;box-sizing: border-box;padding-bottom: 0.4em;background-color: white;}#sk-container-id-8 div.sk-label label {font-family: monospace;font-weight: bold;display: inline-block;line-height: 1.2em;}#sk-container-id-8 div.sk-label-container {text-align: center;}#sk-container-id-8 div.sk-container {/* jupyter's `normalize.less` sets `[hidden] { display: none; }` but bootstrap.min.css set `[hidden] { display: none !important; }` so we also need the `!important` here to be able to override the default hidden behavior on the sphinx rendered scikit-learn.org. See: https://github.com/scikit-learn/scikit-learn/issues/21755 */display: inline-block !important;position: relative;}#sk-container-id-8 div.sk-text-repr-fallback {display: none;}</style><div id=\"sk-container-id-8\" class=\"sk-top-container\"><div class=\"sk-text-repr-fallback\"><pre>XGBClassifier(base_score=None, booster=None, callbacks=None,\n",
       "              colsample_bylevel=None, colsample_bynode=None,\n",
       "              colsample_bytree=None, device=None, early_stopping_rounds=None,\n",
       "              enable_categorical=False, eval_metric=None, feature_types=None,\n",
       "              gamma=None, grow_policy=None, importance_type=None,\n",
       "              interaction_constraints=None, learning_rate=None, max_bin=None,\n",
       "              max_cat_threshold=None, max_cat_to_onehot=None,\n",
       "              max_delta_step=None, max_depth=3, max_leaves=None,\n",
       "              min_child_weight=None, missing=nan, monotone_constraints=None,\n",
       "              multi_strategy=None, n_estimators=10, n_jobs=None,\n",
       "              num_parallel_tree=None, random_state=None, ...)</pre><b>In a Jupyter environment, please rerun this cell to show the HTML representation or trust the notebook. <br />On GitHub, the HTML representation is unable to render, please try loading this page with nbviewer.org.</b></div><div class=\"sk-container\" hidden><div class=\"sk-item\"><div class=\"sk-estimator sk-toggleable\"><input class=\"sk-toggleable__control sk-hidden--visually\" id=\"sk-estimator-id-14\" type=\"checkbox\" checked><label for=\"sk-estimator-id-14\" class=\"sk-toggleable__label sk-toggleable__label-arrow\">XGBClassifier</label><div class=\"sk-toggleable__content\"><pre>XGBClassifier(base_score=None, booster=None, callbacks=None,\n",
       "              colsample_bylevel=None, colsample_bynode=None,\n",
       "              colsample_bytree=None, device=None, early_stopping_rounds=None,\n",
       "              enable_categorical=False, eval_metric=None, feature_types=None,\n",
       "              gamma=None, grow_policy=None, importance_type=None,\n",
       "              interaction_constraints=None, learning_rate=None, max_bin=None,\n",
       "              max_cat_threshold=None, max_cat_to_onehot=None,\n",
       "              max_delta_step=None, max_depth=3, max_leaves=None,\n",
       "              min_child_weight=None, missing=nan, monotone_constraints=None,\n",
       "              multi_strategy=None, n_estimators=10, n_jobs=None,\n",
       "              num_parallel_tree=None, random_state=None, ...)</pre></div></div></div></div></div>"
      ],
      "text/plain": [
       "XGBClassifier(base_score=None, booster=None, callbacks=None,\n",
       "              colsample_bylevel=None, colsample_bynode=None,\n",
       "              colsample_bytree=None, device=None, early_stopping_rounds=None,\n",
       "              enable_categorical=False, eval_metric=None, feature_types=None,\n",
       "              gamma=None, grow_policy=None, importance_type=None,\n",
       "              interaction_constraints=None, learning_rate=None, max_bin=None,\n",
       "              max_cat_threshold=None, max_cat_to_onehot=None,\n",
       "              max_delta_step=None, max_depth=3, max_leaves=None,\n",
       "              min_child_weight=None, missing=nan, monotone_constraints=None,\n",
       "              multi_strategy=None, n_estimators=10, n_jobs=None,\n",
       "              num_parallel_tree=None, random_state=None, ...)"
      ]
     },
     "execution_count": 218,
     "metadata": {},
     "output_type": "execute_result"
    }
   ],
   "source": [
    "model.fit(X_train_normalized.values, y_train)"
   ]
  },
  {
   "cell_type": "code",
   "execution_count": 220,
   "id": "b04e72e1-9706-44c5-b7aa-635ab474cf28",
   "metadata": {},
   "outputs": [],
   "source": [
    "y_train_pred = model.predict(X_train_normalized)"
   ]
  },
  {
   "cell_type": "code",
   "execution_count": 222,
   "id": "1e35c6a5-37f2-487f-b826-6fa49f80507d",
   "metadata": {},
   "outputs": [
    {
     "name": "stdout",
     "output_type": "stream",
     "text": [
      "              precision    recall  f1-score   support\n",
      "\n",
      "           0       0.89      0.79      0.84      3635\n",
      "           1       0.56      0.74      0.64      1295\n",
      "\n",
      "    accuracy                           0.78      4930\n",
      "   macro avg       0.73      0.77      0.74      4930\n",
      "weighted avg       0.81      0.78      0.79      4930\n",
      "\n"
     ]
    }
   ],
   "source": [
    "print(classification_report(y_train, y_train_pred))"
   ]
  },
  {
   "cell_type": "code",
   "execution_count": 224,
   "id": "e39b9fbb-0c6d-4d4c-b607-e2464488d246",
   "metadata": {},
   "outputs": [],
   "source": [
    "y_test_pred = model.predict(X_test_normalized.values)"
   ]
  },
  {
   "cell_type": "code",
   "execution_count": 228,
   "id": "be3db3cb-04e7-41ec-99bd-b61345fe522c",
   "metadata": {},
   "outputs": [
    {
     "name": "stdout",
     "output_type": "stream",
     "text": [
      "              precision    recall  f1-score   support\n",
      "\n",
      "           0       0.90      0.80      0.84      1539\n",
      "           1       0.58      0.75      0.66       574\n",
      "\n",
      "    accuracy                           0.79      2113\n",
      "   macro avg       0.74      0.78      0.75      2113\n",
      "weighted avg       0.81      0.79      0.79      2113\n",
      "\n"
     ]
    }
   ],
   "source": [
    "print(classification_report(y_test, y_test_pred))"
   ]
  },
  {
   "cell_type": "code",
   "execution_count": 230,
   "id": "dd389854-89bd-4e9d-b4a6-0d64d01a0112",
   "metadata": {},
   "outputs": [],
   "source": [
    "cm  =  confusion_matrix(y_test, y_test_pred)"
   ]
  },
  {
   "cell_type": "code",
   "execution_count": 242,
   "id": "3fa94c83-a9d6-415e-b63d-47fc7a8243e3",
   "metadata": {},
   "outputs": [],
   "source": [
    "disp = ConfusionMatrixDisplay(confusion_matrix = cm, display_labels = model.classes_)"
   ]
  },
  {
   "cell_type": "code",
   "execution_count": 246,
   "id": "952a7f65-a548-4aaf-83a2-6e8a1171a7f3",
   "metadata": {},
   "outputs": [
    {
     "data": {
      "image/png": "[encoded data removed]",
      "text/plain": [
       "<Figure size 640x480 with 2 Axes>"
      ]
     },
     "metadata": {},
     "output_type": "display_data"
    }
   ],
   "source": [
    "disp.plot()\n",
    "plt.show()"
   ]
  },
  {
   "cell_type": "code",
   "execution_count": 250,
   "id": "3184fd46-a787-45a9-aa57-b7a31f717edd",
   "metadata": {},
   "outputs": [],
   "source": [
    "y_test_pred_score = model.predict_proba(X_test_normalized)[:,1]"
   ]
  },
  {
   "cell_type": "code",
   "execution_count": 276,
   "id": "74d270f0-63ad-4fdf-81ec-f25d91b06867",
   "metadata": {},
   "outputs": [
    {
     "data": {
      "text/plain": [
       "(609, 608)"
      ]
     },
     "execution_count": 276,
     "metadata": {},
     "output_type": "execute_result"
    }
   ],
   "source": [
    "len(precision), len(thresholds)"
   ]
  },
  {
   "cell_type": "code",
   "execution_count": 258,
   "id": "74aa5fa8-8c91-46f2-b568-8fb31dcbad50",
   "metadata": {},
   "outputs": [],
   "source": [
    "#plot AUC\n",
    "precision, recall, thresholds  = precision_recall_curve(y_test, y_test_pred_score)"
   ]
  },
  {
   "cell_type": "code",
   "execution_count": 292,
   "id": "57e83f58-a7dd-4886-86be-7d44328360ee",
   "metadata": {},
   "outputs": [
    {
     "data": {
      "image/png": "[encoded data removed]",
      "text/plain": [
       "<Figure size 400x300 with 1 Axes>"
      ]
     },
     "metadata": {},
     "output_type": "display_data"
    }
   ],
   "source": [
    "plt.figure(figsize=(4,3))\n",
    "plt.plot(thresholds, recall[1:], label='recall')\n",
    "plt.plot(thresholds, precision[1:], label='precision')\n",
    "plt.xlabel('Threshold')\n",
    "plt.ylabel('recall')\n",
    "plt.legend()\n",
    "plt.grid()\n",
    "plt.show()"
   ]
  },
  {
   "cell_type": "code",
   "execution_count": 298,
   "id": "fb2fd938-6878-4eb5-89f6-6669363f5270",
   "metadata": {},
   "outputs": [
    {
     "data": {
      "text/plain": [
       "0.8527121779154301"
      ]
     },
     "execution_count": 298,
     "metadata": {},
     "output_type": "execute_result"
    }
   ],
   "source": [
    "roc_auc_score(y_test, y_test_pred_score)"
   ]
  },
  {
   "cell_type": "code",
   "execution_count": 304,
   "id": "268d47e7-2c89-477f-baa9-2939d8f84e0e",
   "metadata": {},
   "outputs": [],
   "source": [
    "fpr, tpr, thresholds = roc_curve(y_test, y_test_pred_score)"
   ]
  },
  {
   "cell_type": "code",
   "execution_count": 308,
   "id": "ea48c67e-e855-4fcd-90eb-30647470a6a7",
   "metadata": {},
   "outputs": [
    {
     "data": {
      "text/plain": [
       "(489, 489)"
      ]
     },
     "execution_count": 308,
     "metadata": {},
     "output_type": "execute_result"
    }
   ],
   "source": [
    "len(fpr), len(thresholds)"
   ]
  },
  {
   "cell_type": "code",
   "execution_count": 310,
   "id": "7a63eeee-d4d9-4929-9a72-61b3502daf45",
   "metadata": {},
   "outputs": [
    {
     "data": {
      "image/png": "[encoded data removed]",
      "text/plain": [
       "<Figure size 400x300 with 1 Axes>"
      ]
     },
     "metadata": {},
     "output_type": "display_data"
    }
   ],
   "source": [
    "plt.figure(figsize=(4,3))\n",
    "plt.plot(fpr, tpr)\n",
    "plt.xlabel('FPR')\n",
    "plt.ylabel('TPR')\n",
    "plt.grid()\n",
    "plt.show()"
   ]
  },
  {
   "cell_type": "code",
   "execution_count": null,
   "id": "9bb0ee8c-56d6-4d64-83a9-5fc4d535c2a9",
   "metadata": {},
   "outputs": [],
   "source": [
    "#check the feature importance"
   ]
  },
  {
   "cell_type": "code",
   "execution_count": 320,
   "id": "a6ca84d6-4490-4c20-a11d-e4f15b35d79a",
   "metadata": {},
   "outputs": [
    {
     "data": {
      "text/plain": [
       "array([0.07823536, 0.01253699, 0.01798234, 0.        , 0.        ,\n",
       "       0.01153788, 0.        , 0.        , 0.10119394, 0.11688905,\n",
       "       0.        , 0.04825658, 0.        , 0.00419265, 0.        ,\n",
       "       0.00897819, 0.        , 0.        , 0.        , 0.        ,\n",
       "       0.        , 0.04904345, 0.23162535, 0.23243442, 0.01700579,\n",
       "       0.        , 0.07008792, 0.        ], dtype=float32)"
      ]
     },
     "execution_count": 320,
     "metadata": {},
     "output_type": "execute_result"
    }
   ],
   "source": [
    "model.feature_importances_"
   ]
  },
  {
   "cell_type": "code",
   "execution_count": 322,
   "id": "e988e101-6fc7-4e2c-8ae3-ce5209720f1d",
   "metadata": {},
   "outputs": [
    {
     "data": {
      "text/plain": [
       "Index(['tenure', 'MonthlyCharges', 'SeniorCitizen_1', 'Partner_Yes',\n",
       "       'Dependents_Yes', 'PhoneService_Yes', 'MultipleLines_No phone service',\n",
       "       'MultipleLines_Yes', 'InternetService_Fiber optic',\n",
       "       'InternetService_No', 'OnlineSecurity_No internet service',\n",
       "       'OnlineSecurity_Yes', 'OnlineBackup_No internet service',\n",
       "       'OnlineBackup_Yes', 'DeviceProtection_No internet service',\n",
       "       'DeviceProtection_Yes', 'TechSupport_No internet service',\n",
       "       'TechSupport_Yes', 'StreamingTV_No internet service', 'StreamingTV_Yes',\n",
       "       'StreamingMovies_No internet service', 'StreamingMovies_Yes',\n",
       "       'Contract_One year', 'Contract_Two year', 'PaperlessBilling_Yes',\n",
       "       'PaymentMethod_Credit card (automatic)',\n",
       "       'PaymentMethod_Electronic check', 'PaymentMethod_Mailed check'],\n",
       "      dtype='object')"
      ]
     },
     "execution_count": 322,
     "metadata": {},
     "output_type": "execute_result"
    }
   ],
   "source": [
    "X_train_normalized.columns"
   ]
  },
  {
   "cell_type": "code",
   "execution_count": 326,
   "id": "d69d76e0-cc47-40a0-8f1b-1d157405d36e",
   "metadata": {},
   "outputs": [],
   "source": [
    "imp = {i:j for i, j in zip(X_train_normalized.columns, model.feature_importances_)}"
   ]
  },
  {
   "cell_type": "code",
   "execution_count": 341,
   "id": "ac2e398f-6e4a-47bb-9a11-4b83dacb4779",
   "metadata": {},
   "outputs": [
    {
     "data": {
      "text/plain": [
       "[('Contract_Two year', 0.23243442),\n",
       " ('Contract_One year', 0.23162535),\n",
       " ('InternetService_No', 0.11688905),\n",
       " ('InternetService_Fiber optic', 0.10119394),\n",
       " ('tenure', 0.07823536),\n",
       " ('PaymentMethod_Electronic check', 0.070087925),\n",
       " ('StreamingMovies_Yes', 0.04904345),\n",
       " ('OnlineSecurity_Yes', 0.048256584),\n",
       " ('SeniorCitizen_1', 0.017982343),\n",
       " ('PaperlessBilling_Yes', 0.017005792),\n",
       " ('MonthlyCharges', 0.012536986),\n",
       " ('PhoneService_Yes', 0.011537877),\n",
       " ('DeviceProtection_Yes', 0.008978187),\n",
       " ('OnlineBackup_Yes', 0.004192651),\n",
       " ('Partner_Yes', 0.0),\n",
       " ('Dependents_Yes', 0.0),\n",
       " ('MultipleLines_No phone service', 0.0),\n",
       " ('MultipleLines_Yes', 0.0),\n",
       " ('OnlineSecurity_No internet service', 0.0),\n",
       " ('OnlineBackup_No internet service', 0.0),\n",
       " ('DeviceProtection_No internet service', 0.0),\n",
       " ('TechSupport_No internet service', 0.0),\n",
       " ('TechSupport_Yes', 0.0),\n",
       " ('StreamingTV_No internet service', 0.0),\n",
       " ('StreamingTV_Yes', 0.0),\n",
       " ('StreamingMovies_No internet service', 0.0),\n",
       " ('PaymentMethod_Credit card (automatic)', 0.0),\n",
       " ('PaymentMethod_Mailed check', 0.0)]"
      ]
     },
     "execution_count": 341,
     "metadata": {},
     "output_type": "execute_result"
    }
   ],
   "source": [
    "sorted(imp.items(), key=lambda item: item[1], reverse = True)"
   ]
  },
  {
   "cell_type": "code",
   "execution_count": 345,
   "id": "ec9c05aa-c000-4873-9c7c-1d4b3aec124c",
   "metadata": {},
   "outputs": [],
   "source": [
    "feature_importance = pd.DataFrame()\n",
    "feature_importance['FeatureName'] = X_train_normalized.columns\n",
    "feature_importance['Score'] = model.feature_importances_"
   ]
  },
  {
   "cell_type": "code",
   "execution_count": 347,
   "id": "c0fe26a4-74db-456d-9f40-d6c2e8927123",
   "metadata": {},
   "outputs": [
    {
     "data": {
      "text/html": [
       "<div>\n",
       "<style scoped>\n",
       "    .dataframe tbody tr th:only-of-type {\n",
       "        vertical-align: middle;\n",
       "    }\n",
       "\n",
       "    .dataframe tbody tr th {\n",
       "        vertical-align: top;\n",
       "    }\n",
       "\n",
       "    .dataframe thead th {\n",
       "        text-align: right;\n",
       "    }\n",
       "</style>\n",
       "<table border=\"1\" class=\"dataframe\">\n",
       "  <thead>\n",
       "    <tr style=\"text-align: right;\">\n",
       "      <th></th>\n",
       "      <th>FeatureName</th>\n",
       "      <th>Score</th>\n",
       "    </tr>\n",
       "  </thead>\n",
       "  <tbody>\n",
       "    <tr>\n",
       "      <th>23</th>\n",
       "      <td>Contract_Two year</td>\n",
       "      <td>0.232434</td>\n",
       "    </tr>\n",
       "    <tr>\n",
       "      <th>22</th>\n",
       "      <td>Contract_One year</td>\n",
       "      <td>0.231625</td>\n",
       "    </tr>\n",
       "    <tr>\n",
       "      <th>9</th>\n",
       "      <td>InternetService_No</td>\n",
       "      <td>0.116889</td>\n",
       "    </tr>\n",
       "    <tr>\n",
       "      <th>8</th>\n",
       "      <td>InternetService_Fiber optic</td>\n",
       "      <td>0.101194</td>\n",
       "    </tr>\n",
       "    <tr>\n",
       "      <th>0</th>\n",
       "      <td>tenure</td>\n",
       "      <td>0.078235</td>\n",
       "    </tr>\n",
       "    <tr>\n",
       "      <th>26</th>\n",
       "      <td>PaymentMethod_Electronic check</td>\n",
       "      <td>0.070088</td>\n",
       "    </tr>\n",
       "    <tr>\n",
       "      <th>21</th>\n",
       "      <td>StreamingMovies_Yes</td>\n",
       "      <td>0.049043</td>\n",
       "    </tr>\n",
       "    <tr>\n",
       "      <th>11</th>\n",
       "      <td>OnlineSecurity_Yes</td>\n",
       "      <td>0.048257</td>\n",
       "    </tr>\n",
       "    <tr>\n",
       "      <th>2</th>\n",
       "      <td>SeniorCitizen_1</td>\n",
       "      <td>0.017982</td>\n",
       "    </tr>\n",
       "    <tr>\n",
       "      <th>24</th>\n",
       "      <td>PaperlessBilling_Yes</td>\n",
       "      <td>0.017006</td>\n",
       "    </tr>\n",
       "    <tr>\n",
       "      <th>1</th>\n",
       "      <td>MonthlyCharges</td>\n",
       "      <td>0.012537</td>\n",
       "    </tr>\n",
       "    <tr>\n",
       "      <th>5</th>\n",
       "      <td>PhoneService_Yes</td>\n",
       "      <td>0.011538</td>\n",
       "    </tr>\n",
       "    <tr>\n",
       "      <th>15</th>\n",
       "      <td>DeviceProtection_Yes</td>\n",
       "      <td>0.008978</td>\n",
       "    </tr>\n",
       "    <tr>\n",
       "      <th>13</th>\n",
       "      <td>OnlineBackup_Yes</td>\n",
       "      <td>0.004193</td>\n",
       "    </tr>\n",
       "    <tr>\n",
       "      <th>25</th>\n",
       "      <td>PaymentMethod_Credit card (automatic)</td>\n",
       "      <td>0.000000</td>\n",
       "    </tr>\n",
       "    <tr>\n",
       "      <th>18</th>\n",
       "      <td>StreamingTV_No internet service</td>\n",
       "      <td>0.000000</td>\n",
       "    </tr>\n",
       "    <tr>\n",
       "      <th>20</th>\n",
       "      <td>StreamingMovies_No internet service</td>\n",
       "      <td>0.000000</td>\n",
       "    </tr>\n",
       "    <tr>\n",
       "      <th>19</th>\n",
       "      <td>StreamingTV_Yes</td>\n",
       "      <td>0.000000</td>\n",
       "    </tr>\n",
       "    <tr>\n",
       "      <th>14</th>\n",
       "      <td>DeviceProtection_No internet service</td>\n",
       "      <td>0.000000</td>\n",
       "    </tr>\n",
       "    <tr>\n",
       "      <th>17</th>\n",
       "      <td>TechSupport_Yes</td>\n",
       "      <td>0.000000</td>\n",
       "    </tr>\n",
       "    <tr>\n",
       "      <th>16</th>\n",
       "      <td>TechSupport_No internet service</td>\n",
       "      <td>0.000000</td>\n",
       "    </tr>\n",
       "    <tr>\n",
       "      <th>12</th>\n",
       "      <td>OnlineBackup_No internet service</td>\n",
       "      <td>0.000000</td>\n",
       "    </tr>\n",
       "    <tr>\n",
       "      <th>10</th>\n",
       "      <td>OnlineSecurity_No internet service</td>\n",
       "      <td>0.000000</td>\n",
       "    </tr>\n",
       "    <tr>\n",
       "      <th>7</th>\n",
       "      <td>MultipleLines_Yes</td>\n",
       "      <td>0.000000</td>\n",
       "    </tr>\n",
       "    <tr>\n",
       "      <th>6</th>\n",
       "      <td>MultipleLines_No phone service</td>\n",
       "      <td>0.000000</td>\n",
       "    </tr>\n",
       "    <tr>\n",
       "      <th>4</th>\n",
       "      <td>Dependents_Yes</td>\n",
       "      <td>0.000000</td>\n",
       "    </tr>\n",
       "    <tr>\n",
       "      <th>3</th>\n",
       "      <td>Partner_Yes</td>\n",
       "      <td>0.000000</td>\n",
       "    </tr>\n",
       "    <tr>\n",
       "      <th>27</th>\n",
       "      <td>PaymentMethod_Mailed check</td>\n",
       "      <td>0.000000</td>\n",
       "    </tr>\n",
       "  </tbody>\n",
       "</table>\n",
       "</div>"
      ],
      "text/plain": [
       "                              FeatureName     Score\n",
       "23                      Contract_Two year  0.232434\n",
       "22                      Contract_One year  0.231625\n",
       "9                      InternetService_No  0.116889\n",
       "8             InternetService_Fiber optic  0.101194\n",
       "0                                  tenure  0.078235\n",
       "26         PaymentMethod_Electronic check  0.070088\n",
       "21                    StreamingMovies_Yes  0.049043\n",
       "11                     OnlineSecurity_Yes  0.048257\n",
       "2                         SeniorCitizen_1  0.017982\n",
       "24                   PaperlessBilling_Yes  0.017006\n",
       "1                          MonthlyCharges  0.012537\n",
       "5                        PhoneService_Yes  0.011538\n",
       "15                   DeviceProtection_Yes  0.008978\n",
       "13                       OnlineBackup_Yes  0.004193\n",
       "25  PaymentMethod_Credit card (automatic)  0.000000\n",
       "18        StreamingTV_No internet service  0.000000\n",
       "20    StreamingMovies_No internet service  0.000000\n",
       "19                        StreamingTV_Yes  0.000000\n",
       "14   DeviceProtection_No internet service  0.000000\n",
       "17                        TechSupport_Yes  0.000000\n",
       "16        TechSupport_No internet service  0.000000\n",
       "12       OnlineBackup_No internet service  0.000000\n",
       "10     OnlineSecurity_No internet service  0.000000\n",
       "7                       MultipleLines_Yes  0.000000\n",
       "6          MultipleLines_No phone service  0.000000\n",
       "4                          Dependents_Yes  0.000000\n",
       "3                             Partner_Yes  0.000000\n",
       "27             PaymentMethod_Mailed check  0.000000"
      ]
     },
     "execution_count": 347,
     "metadata": {},
     "output_type": "execute_result"
    }
   ],
   "source": [
    "feature_importance.sort_values(by = 'Score', ascending=False)"
   ]
  },
  {
   "cell_type": "code",
   "execution_count": null,
   "id": "b9350124-ec54-4b19-a8c4-a0145cbaf8d1",
   "metadata": {},
   "outputs": [],
   "source": []
  },
  {
   "cell_type": "markdown",
   "id": "737f0748-5a9b-4c44-8a8a-56d0ee0b0797",
   "metadata": {},
   "source": [
    "## 4.4 Neural Network"
   ]
  },
  {
   "cell_type": "code",
   "execution_count": 376,
   "id": "1332914c-f4bf-45ce-9f8b-0859c7cca9c9",
   "metadata": {},
   "outputs": [
    {
     "data": {
      "text/plain": [
       "(4930, 28)"
      ]
     },
     "execution_count": 376,
     "metadata": {},
     "output_type": "execute_result"
    }
   ],
   "source": [
    "X_train_normalized.shape"
   ]
  },
  {
   "cell_type": "code",
   "execution_count": 349,
   "id": "29423f00-b619-450b-b2ed-2616fc03305a",
   "metadata": {},
   "outputs": [],
   "source": [
    "import tensorflow as tf\n",
    "from tensorflow import keras\n",
    "import keras.backend as K"
   ]
  },
  {
   "cell_type": "code",
   "execution_count": 395,
   "id": "d078bd6b-eb37-4515-b9d5-81c1b2bd0352",
   "metadata": {},
   "outputs": [],
   "source": [
    "from keras.layers import Dense, ReLU, BatchNormalization, Dropout, Input\n",
    "from keras.models import Sequential, Model"
   ]
  },
  {
   "cell_type": "code",
   "execution_count": 397,
   "id": "cfbc4f4b-316e-4957-8ed9-ffc2fcacf94c",
   "metadata": {},
   "outputs": [],
   "source": [
    "K.clear_session()"
   ]
  },
  {
   "cell_type": "code",
   "execution_count": null,
   "id": "6cc8c0be-7d71-4e53-bab3-52cd06428615",
   "metadata": {},
   "outputs": [],
   "source": [
    "kernel_initializer"
   ]
  },
  {
   "cell_type": "code",
   "execution_count": 430,
   "id": "5bda9b80-cd0f-4a6b-b9d4-2ee84ae2c5dc",
   "metadata": {},
   "outputs": [],
   "source": [
    "kernel_initializer = keras.initializers.GlorotUniform(seed = 42)\n",
    "inputs = Input(shape = (28,) )\n",
    "x = Dense(32, kernel_initializer = kernel_initializer)(inputs)\n",
    "x = BatchNormalization()(x)\n",
    "x = ReLU()(x)\n",
    "\n",
    "x = Dense(32, kernel_initializer = kernel_initializer)(x)\n",
    "x = BatchNormalization()(x)\n",
    "x = ReLU()(x)\n",
    "\n",
    "x = Dense(32, kernel_initializer = kernel_initializer)(x)\n",
    "x = BatchNormalization()(x)\n",
    "x = ReLU()(x)\n",
    "\n",
    "outputs = Dense(1, kernel_initializer = kernal_initializer, activation = 'sigmoid')(x)\n",
    "NN_model = Model(inputs = inputs, outputs = outputs)"
   ]
  },
  {
   "cell_type": "code",
   "execution_count": 432,
   "id": "c958f768-478b-41a5-9bb4-796585720d96",
   "metadata": {},
   "outputs": [
    {
     "name": "stdout",
     "output_type": "stream",
     "text": [
      "Model: \"model_1\"\n",
      "_________________________________________________________________\n",
      " Layer (type)                Output Shape              Param #   \n",
      "=================================================================\n",
      " input_8 (InputLayer)        [(None, 28)]              0         \n",
      "                                                                 \n",
      " dense_8 (Dense)             (None, 32)                928       \n",
      "                                                                 \n",
      " batch_normalization_5 (Batc  (None, 32)               128       \n",
      " hNormalization)                                                 \n",
      "                                                                 \n",
      " re_lu_4 (ReLU)              (None, 32)                0         \n",
      "                                                                 \n",
      " dense_9 (Dense)             (None, 32)                1056      \n",
      "                                                                 \n",
      " batch_normalization_6 (Batc  (None, 32)               128       \n",
      " hNormalization)                                                 \n",
      "                                                                 \n",
      " re_lu_5 (ReLU)              (None, 32)                0         \n",
      "                                                                 \n",
      " dense_10 (Dense)            (None, 32)                1056      \n",
      "                                                                 \n",
      " batch_normalization_7 (Batc  (None, 32)               128       \n",
      " hNormalization)                                                 \n",
      "                                                                 \n",
      " re_lu_6 (ReLU)              (None, 32)                0         \n",
      "                                                                 \n",
      " dense_11 (Dense)            (None, 1)                 33        \n",
      "                                                                 \n",
      "=================================================================\n",
      "Total params: 3,457\n",
      "Trainable params: 3,265\n",
      "Non-trainable params: 192\n",
      "_________________________________________________________________\n"
     ]
    }
   ],
   "source": [
    "NN_model.summary()"
   ]
  },
  {
   "cell_type": "code",
   "execution_count": 434,
   "id": "cfea53e3-96ec-411a-82d0-ea33678c1149",
   "metadata": {},
   "outputs": [],
   "source": [
    "NN_model.compile(loss=tf.keras.losses.BinaryCrossentropy(from_logits=False), optimizer=tf.keras.optimizers.Adam(learning_rate=1e-3),\n",
    "metrics = ['Accuracy', 'Precision', 'Recall'])"
   ]
  },
  {
   "cell_type": "code",
   "execution_count": 441,
   "id": "ebb05364-9a26-4c10-ad4e-167c91a9d54b",
   "metadata": {},
   "outputs": [
    {
     "name": "stdout",
     "output_type": "stream",
     "text": [
      "Epoch 1/10\n",
      "493/493 [==============================] - 2s 4ms/step - loss: 0.4380 - Accuracy: 0.7928 - precision: 0.6506 - recall: 0.4858 - val_loss: 0.4077 - val_Accuracy: 0.8063 - val_precision: 0.6168 - val_recall: 0.5477\n",
      "Epoch 2/10\n",
      "493/493 [==============================] - 2s 3ms/step - loss: 0.4376 - Accuracy: 0.7926 - precision: 0.6540 - recall: 0.4753 - val_loss: 0.4014 - val_Accuracy: 0.8073 - val_precision: 0.6209 - val_recall: 0.5436\n",
      "Epoch 3/10\n",
      "493/493 [==============================] - 2s 3ms/step - loss: 0.4362 - Accuracy: 0.7964 - precision: 0.6579 - recall: 0.4962 - val_loss: 0.4086 - val_Accuracy: 0.8032 - val_precision: 0.6205 - val_recall: 0.5021\n",
      "Epoch 4/10\n",
      "493/493 [==============================] - 2s 4ms/step - loss: 0.4358 - Accuracy: 0.7883 - precision: 0.6367 - recall: 0.4839 - val_loss: 0.4083 - val_Accuracy: 0.8073 - val_precision: 0.6308 - val_recall: 0.5104\n",
      "Epoch 5/10\n",
      "493/493 [==============================] - 2s 3ms/step - loss: 0.4319 - Accuracy: 0.7941 - precision: 0.6592 - recall: 0.4753 - val_loss: 0.4120 - val_Accuracy: 0.8103 - val_precision: 0.6337 - val_recall: 0.5311\n",
      "Epoch 6/10\n",
      "493/493 [==============================] - 2s 3ms/step - loss: 0.4331 - Accuracy: 0.7964 - precision: 0.6583 - recall: 0.4953 - val_loss: 0.4044 - val_Accuracy: 0.8053 - val_precision: 0.6354 - val_recall: 0.4772\n",
      "Epoch 7/10\n",
      "493/493 [==============================] - 2s 3ms/step - loss: 0.4303 - Accuracy: 0.7964 - precision: 0.6571 - recall: 0.4981 - val_loss: 0.4093 - val_Accuracy: 0.8063 - val_precision: 0.6404 - val_recall: 0.4730\n",
      "Epoch 8/10\n",
      "493/493 [==============================] - 2s 3ms/step - loss: 0.4383 - Accuracy: 0.7898 - precision: 0.6478 - recall: 0.4677 - val_loss: 0.4087 - val_Accuracy: 0.8083 - val_precision: 0.6781 - val_recall: 0.4108\n",
      "Epoch 9/10\n",
      "493/493 [==============================] - 2s 3ms/step - loss: 0.4324 - Accuracy: 0.7984 - precision: 0.6688 - recall: 0.4867 - val_loss: 0.4089 - val_Accuracy: 0.8032 - val_precision: 0.6343 - val_recall: 0.4606\n",
      "Epoch 10/10\n",
      "493/493 [==============================] - 2s 3ms/step - loss: 0.4349 - Accuracy: 0.7931 - precision: 0.6510 - recall: 0.4867 - val_loss: 0.4171 - val_Accuracy: 0.8032 - val_precision: 0.6556 - val_recall: 0.4108\n"
     ]
    }
   ],
   "source": [
    "epochs = 10\n",
    "batch_size = 8\n",
    "history = NN_model.fit(X_train_normalized.values, y_train, epochs = epochs, batch_size = batch_size, validation_split = 0.2)"
   ]
  },
  {
   "cell_type": "code",
   "execution_count": 456,
   "id": "5cf9a95d-7742-4a83-b53f-0b13d2878da9",
   "metadata": {},
   "outputs": [],
   "source": [
    "batch_size = 8\n",
    "y_test_pred_score = NN_model.predict(X_test_normalized, batch_size = batch_size)"
   ]
  },
  {
   "cell_type": "code",
   "execution_count": 457,
   "id": "2902ce65-e91e-4d4e-af1d-0ca443c3710a",
   "metadata": {},
   "outputs": [
    {
     "data": {
      "text/plain": [
       "array([0.57629895, 0.12807375, 0.01842904, ..., 0.01846659, 0.4162434 ,\n",
       "       0.23001385], dtype=float32)"
      ]
     },
     "execution_count": 457,
     "metadata": {},
     "output_type": "execute_result"
    }
   ],
   "source": [
    "y_test_pred_score.flatten()"
   ]
  },
  {
   "cell_type": "code",
   "execution_count": 469,
   "id": "aa7b5b5d-b71f-49da-b6e2-bd5e6903b42d",
   "metadata": {},
   "outputs": [],
   "source": [
    "y_test_pred = (y_test_pred_score>=0.5).astype('int')"
   ]
  },
  {
   "cell_type": "code",
   "execution_count": 473,
   "id": "ff8bc2fa-3316-4ee8-8ef3-c28ed86e6c54",
   "metadata": {},
   "outputs": [
    {
     "name": "stdout",
     "output_type": "stream",
     "text": [
      "              precision    recall  f1-score   support\n",
      "\n",
      "           0       0.82      0.92      0.87      1539\n",
      "           1       0.70      0.47      0.56       574\n",
      "\n",
      "    accuracy                           0.80      2113\n",
      "   macro avg       0.76      0.70      0.72      2113\n",
      "weighted avg       0.79      0.80      0.79      2113\n",
      "\n"
     ]
    }
   ],
   "source": [
    "print(classification_report(y_test, y_test_pred))"
   ]
  },
  {
   "cell_type": "markdown",
   "id": "435f8d5b-6210-48fa-84dc-c694cb296515",
   "metadata": {},
   "source": [
    "## Ensemble model"
   ]
  },
  {
   "cell_type": "code",
   "execution_count": null,
   "id": "0dd875b4-c004-495b-8c3a-3a16a3cbbbcf",
   "metadata": {},
   "outputs": [],
   "source": []
  }
 ],
 "metadata": {
  "kernelspec": {
   "display_name": "Python [conda env:py39]",
   "language": "python",
   "name": "conda-env-py39-py"
  },
  "language_info": {
   "codemirror_mode": {
    "name": "ipython",
    "version": 3
   },
   "file_extension": ".py",
   "mimetype": "text/x-python",
   "name": "python",
   "nbconvert_exporter": "python",
   "pygments_lexer": "ipython3",
   "version": "3.9.21"
  }
 },
 "nbformat": 4,
 "nbformat_minor": 5
}
